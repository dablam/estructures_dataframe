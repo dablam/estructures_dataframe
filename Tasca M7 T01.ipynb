{
 "cells": [
  {
   "cell_type": "markdown",
   "id": "beddd09c",
   "metadata": {},
   "source": [
    "# EXERCICI 1\n",
    "## creació de dos models de classificació diferents per intentar predir millor les classes de l'arxiu."
   ]
  },
  {
   "cell_type": "code",
   "execution_count": 1,
   "id": "631a6c99",
   "metadata": {},
   "outputs": [
    {
     "data": {
      "text/html": [
       "<div>\n",
       "<style scoped>\n",
       "    .dataframe tbody tr th:only-of-type {\n",
       "        vertical-align: middle;\n",
       "    }\n",
       "\n",
       "    .dataframe tbody tr th {\n",
       "        vertical-align: top;\n",
       "    }\n",
       "\n",
       "    .dataframe thead th {\n",
       "        text-align: right;\n",
       "    }\n",
       "</style>\n",
       "<table border=\"1\" class=\"dataframe\">\n",
       "  <thead>\n",
       "    <tr style=\"text-align: right;\">\n",
       "      <th></th>\n",
       "      <th>class</th>\n",
       "      <th>Alcohol</th>\n",
       "      <th>Malic aci</th>\n",
       "      <th>As</th>\n",
       "      <th>Alcalinity of ash</th>\n",
       "      <th>Magnesium</th>\n",
       "      <th>Total phenols</th>\n",
       "      <th>Flavanoids</th>\n",
       "      <th>Nonflavanoid phenols</th>\n",
       "      <th>Proanthocyanins</th>\n",
       "      <th>Color intensity</th>\n",
       "      <th>Hue</th>\n",
       "      <th>OD280/OD315 of diluted wines</th>\n",
       "      <th>Proline</th>\n",
       "    </tr>\n",
       "  </thead>\n",
       "  <tbody>\n",
       "    <tr>\n",
       "      <th>0</th>\n",
       "      <td>1</td>\n",
       "      <td>14.23</td>\n",
       "      <td>1.71</td>\n",
       "      <td>2.43</td>\n",
       "      <td>15.6</td>\n",
       "      <td>127</td>\n",
       "      <td>2.80</td>\n",
       "      <td>3.06</td>\n",
       "      <td>0.28</td>\n",
       "      <td>2.29</td>\n",
       "      <td>5.64</td>\n",
       "      <td>1.04</td>\n",
       "      <td>3.92</td>\n",
       "      <td>1065</td>\n",
       "    </tr>\n",
       "    <tr>\n",
       "      <th>1</th>\n",
       "      <td>1</td>\n",
       "      <td>13.20</td>\n",
       "      <td>1.78</td>\n",
       "      <td>2.14</td>\n",
       "      <td>11.2</td>\n",
       "      <td>100</td>\n",
       "      <td>2.65</td>\n",
       "      <td>2.76</td>\n",
       "      <td>0.26</td>\n",
       "      <td>1.28</td>\n",
       "      <td>4.38</td>\n",
       "      <td>1.05</td>\n",
       "      <td>3.40</td>\n",
       "      <td>1050</td>\n",
       "    </tr>\n",
       "    <tr>\n",
       "      <th>2</th>\n",
       "      <td>1</td>\n",
       "      <td>13.16</td>\n",
       "      <td>2.36</td>\n",
       "      <td>2.67</td>\n",
       "      <td>18.6</td>\n",
       "      <td>101</td>\n",
       "      <td>2.80</td>\n",
       "      <td>3.24</td>\n",
       "      <td>0.30</td>\n",
       "      <td>2.81</td>\n",
       "      <td>5.68</td>\n",
       "      <td>1.03</td>\n",
       "      <td>3.17</td>\n",
       "      <td>1185</td>\n",
       "    </tr>\n",
       "    <tr>\n",
       "      <th>3</th>\n",
       "      <td>1</td>\n",
       "      <td>14.37</td>\n",
       "      <td>1.95</td>\n",
       "      <td>2.50</td>\n",
       "      <td>16.8</td>\n",
       "      <td>113</td>\n",
       "      <td>3.85</td>\n",
       "      <td>3.49</td>\n",
       "      <td>0.24</td>\n",
       "      <td>2.18</td>\n",
       "      <td>7.80</td>\n",
       "      <td>0.86</td>\n",
       "      <td>3.45</td>\n",
       "      <td>1480</td>\n",
       "    </tr>\n",
       "    <tr>\n",
       "      <th>4</th>\n",
       "      <td>1</td>\n",
       "      <td>13.24</td>\n",
       "      <td>2.59</td>\n",
       "      <td>2.87</td>\n",
       "      <td>21.0</td>\n",
       "      <td>118</td>\n",
       "      <td>2.80</td>\n",
       "      <td>2.69</td>\n",
       "      <td>0.39</td>\n",
       "      <td>1.82</td>\n",
       "      <td>4.32</td>\n",
       "      <td>1.04</td>\n",
       "      <td>2.93</td>\n",
       "      <td>735</td>\n",
       "    </tr>\n",
       "  </tbody>\n",
       "</table>\n",
       "</div>"
      ],
      "text/plain": [
       "   class  Alcohol  Malic aci    As  Alcalinity of ash  Magnesium  \\\n",
       "0      1    14.23       1.71  2.43               15.6        127   \n",
       "1      1    13.20       1.78  2.14               11.2        100   \n",
       "2      1    13.16       2.36  2.67               18.6        101   \n",
       "3      1    14.37       1.95  2.50               16.8        113   \n",
       "4      1    13.24       2.59  2.87               21.0        118   \n",
       "\n",
       "   Total phenols  Flavanoids  Nonflavanoid phenols  Proanthocyanins  \\\n",
       "0           2.80        3.06                  0.28             2.29   \n",
       "1           2.65        2.76                  0.26             1.28   \n",
       "2           2.80        3.24                  0.30             2.81   \n",
       "3           3.85        3.49                  0.24             2.18   \n",
       "4           2.80        2.69                  0.39             1.82   \n",
       "\n",
       "   Color intensity   Hue  OD280/OD315 of diluted wines  Proline  \n",
       "0             5.64  1.04                          3.92     1065  \n",
       "1             4.38  1.05                          3.40     1050  \n",
       "2             5.68  1.03                          3.17     1185  \n",
       "3             7.80  0.86                          3.45     1480  \n",
       "4             4.32  1.04                          2.93      735  "
      ]
     },
     "execution_count": 1,
     "metadata": {},
     "output_type": "execute_result"
    }
   ],
   "source": [
    "# step_1: import packages and classes pel dataset\n",
    "\n",
    "import numpy as np\n",
    "import pandas as pd\n",
    "\n",
    "# descarrega del dataset\n",
    "bv = pd.read_csv('bon_vi.csv')\n",
    "bv.head()"
   ]
  },
  {
   "cell_type": "code",
   "execution_count": 2,
   "id": "0fb84009",
   "metadata": {},
   "outputs": [
    {
     "data": {
      "text/plain": [
       "(178, 14)"
      ]
     },
     "execution_count": 2,
     "metadata": {},
     "output_type": "execute_result"
    }
   ],
   "source": [
    "bv.shape"
   ]
  },
  {
   "cell_type": "code",
   "execution_count": 3,
   "id": "40115058",
   "metadata": {},
   "outputs": [
    {
     "name": "stdout",
     "output_type": "stream",
     "text": [
      "<class 'pandas.core.frame.DataFrame'>\n",
      "RangeIndex: 178 entries, 0 to 177\n",
      "Data columns (total 14 columns):\n",
      " #   Column                        Non-Null Count  Dtype  \n",
      "---  ------                        --------------  -----  \n",
      " 0   class                         178 non-null    int64  \n",
      " 1   Alcohol                       178 non-null    float64\n",
      " 2   Malic aci                     178 non-null    float64\n",
      " 3   As                            178 non-null    float64\n",
      " 4   Alcalinity of ash             178 non-null    float64\n",
      " 5   Magnesium                     178 non-null    int64  \n",
      " 6   Total phenols                 178 non-null    float64\n",
      " 7   Flavanoids                    178 non-null    float64\n",
      " 8   Nonflavanoid phenols          178 non-null    float64\n",
      " 9   Proanthocyanins               178 non-null    float64\n",
      " 10  Color intensity               178 non-null    float64\n",
      " 11  Hue                           178 non-null    float64\n",
      " 12  OD280/OD315 of diluted wines  178 non-null    float64\n",
      " 13  Proline                       178 non-null    int64  \n",
      "dtypes: float64(11), int64(3)\n",
      "memory usage: 19.6 KB\n"
     ]
    }
   ],
   "source": [
    "bv.info()"
   ]
  },
  {
   "cell_type": "code",
   "execution_count": 4,
   "id": "1fb9556c",
   "metadata": {},
   "outputs": [
    {
     "data": {
      "text/html": [
       "<div>\n",
       "<style scoped>\n",
       "    .dataframe tbody tr th:only-of-type {\n",
       "        vertical-align: middle;\n",
       "    }\n",
       "\n",
       "    .dataframe tbody tr th {\n",
       "        vertical-align: top;\n",
       "    }\n",
       "\n",
       "    .dataframe thead th {\n",
       "        text-align: right;\n",
       "    }\n",
       "</style>\n",
       "<table border=\"1\" class=\"dataframe\">\n",
       "  <thead>\n",
       "    <tr style=\"text-align: right;\">\n",
       "      <th></th>\n",
       "      <th>class</th>\n",
       "      <th>Alcohol</th>\n",
       "      <th>Malic aci</th>\n",
       "      <th>As</th>\n",
       "      <th>Alcalinity of ash</th>\n",
       "      <th>Magnesium</th>\n",
       "      <th>Total phenols</th>\n",
       "      <th>Flavanoids</th>\n",
       "      <th>Nonflavanoid phenols</th>\n",
       "      <th>Proanthocyanins</th>\n",
       "      <th>Color intensity</th>\n",
       "      <th>Hue</th>\n",
       "      <th>OD280/OD315 of diluted wines</th>\n",
       "      <th>Proline</th>\n",
       "    </tr>\n",
       "  </thead>\n",
       "  <tbody>\n",
       "    <tr>\n",
       "      <th>count</th>\n",
       "      <td>178.000000</td>\n",
       "      <td>178.000000</td>\n",
       "      <td>178.000000</td>\n",
       "      <td>178.000000</td>\n",
       "      <td>178.000000</td>\n",
       "      <td>178.000000</td>\n",
       "      <td>178.000000</td>\n",
       "      <td>178.000000</td>\n",
       "      <td>178.000000</td>\n",
       "      <td>178.000000</td>\n",
       "      <td>178.000000</td>\n",
       "      <td>178.000000</td>\n",
       "      <td>178.000000</td>\n",
       "      <td>178.000000</td>\n",
       "    </tr>\n",
       "    <tr>\n",
       "      <th>mean</th>\n",
       "      <td>1.938202</td>\n",
       "      <td>13.000618</td>\n",
       "      <td>2.336348</td>\n",
       "      <td>2.366517</td>\n",
       "      <td>19.494944</td>\n",
       "      <td>99.741573</td>\n",
       "      <td>2.295112</td>\n",
       "      <td>2.029270</td>\n",
       "      <td>0.361854</td>\n",
       "      <td>1.590899</td>\n",
       "      <td>5.058090</td>\n",
       "      <td>0.957449</td>\n",
       "      <td>2.611685</td>\n",
       "      <td>746.893258</td>\n",
       "    </tr>\n",
       "    <tr>\n",
       "      <th>std</th>\n",
       "      <td>0.775035</td>\n",
       "      <td>0.811827</td>\n",
       "      <td>1.117146</td>\n",
       "      <td>0.274344</td>\n",
       "      <td>3.339564</td>\n",
       "      <td>14.282484</td>\n",
       "      <td>0.625851</td>\n",
       "      <td>0.998859</td>\n",
       "      <td>0.124453</td>\n",
       "      <td>0.572359</td>\n",
       "      <td>2.318286</td>\n",
       "      <td>0.228572</td>\n",
       "      <td>0.709990</td>\n",
       "      <td>314.907474</td>\n",
       "    </tr>\n",
       "    <tr>\n",
       "      <th>min</th>\n",
       "      <td>1.000000</td>\n",
       "      <td>11.030000</td>\n",
       "      <td>0.740000</td>\n",
       "      <td>1.360000</td>\n",
       "      <td>10.600000</td>\n",
       "      <td>70.000000</td>\n",
       "      <td>0.980000</td>\n",
       "      <td>0.340000</td>\n",
       "      <td>0.130000</td>\n",
       "      <td>0.410000</td>\n",
       "      <td>1.280000</td>\n",
       "      <td>0.480000</td>\n",
       "      <td>1.270000</td>\n",
       "      <td>278.000000</td>\n",
       "    </tr>\n",
       "    <tr>\n",
       "      <th>25%</th>\n",
       "      <td>1.000000</td>\n",
       "      <td>12.362500</td>\n",
       "      <td>1.602500</td>\n",
       "      <td>2.210000</td>\n",
       "      <td>17.200000</td>\n",
       "      <td>88.000000</td>\n",
       "      <td>1.742500</td>\n",
       "      <td>1.205000</td>\n",
       "      <td>0.270000</td>\n",
       "      <td>1.250000</td>\n",
       "      <td>3.220000</td>\n",
       "      <td>0.782500</td>\n",
       "      <td>1.937500</td>\n",
       "      <td>500.500000</td>\n",
       "    </tr>\n",
       "    <tr>\n",
       "      <th>50%</th>\n",
       "      <td>2.000000</td>\n",
       "      <td>13.050000</td>\n",
       "      <td>1.865000</td>\n",
       "      <td>2.360000</td>\n",
       "      <td>19.500000</td>\n",
       "      <td>98.000000</td>\n",
       "      <td>2.355000</td>\n",
       "      <td>2.135000</td>\n",
       "      <td>0.340000</td>\n",
       "      <td>1.555000</td>\n",
       "      <td>4.690000</td>\n",
       "      <td>0.965000</td>\n",
       "      <td>2.780000</td>\n",
       "      <td>673.500000</td>\n",
       "    </tr>\n",
       "    <tr>\n",
       "      <th>75%</th>\n",
       "      <td>3.000000</td>\n",
       "      <td>13.677500</td>\n",
       "      <td>3.082500</td>\n",
       "      <td>2.557500</td>\n",
       "      <td>21.500000</td>\n",
       "      <td>107.000000</td>\n",
       "      <td>2.800000</td>\n",
       "      <td>2.875000</td>\n",
       "      <td>0.437500</td>\n",
       "      <td>1.950000</td>\n",
       "      <td>6.200000</td>\n",
       "      <td>1.120000</td>\n",
       "      <td>3.170000</td>\n",
       "      <td>985.000000</td>\n",
       "    </tr>\n",
       "    <tr>\n",
       "      <th>max</th>\n",
       "      <td>3.000000</td>\n",
       "      <td>14.830000</td>\n",
       "      <td>5.800000</td>\n",
       "      <td>3.230000</td>\n",
       "      <td>30.000000</td>\n",
       "      <td>162.000000</td>\n",
       "      <td>3.880000</td>\n",
       "      <td>5.080000</td>\n",
       "      <td>0.660000</td>\n",
       "      <td>3.580000</td>\n",
       "      <td>13.000000</td>\n",
       "      <td>1.710000</td>\n",
       "      <td>4.000000</td>\n",
       "      <td>1680.000000</td>\n",
       "    </tr>\n",
       "  </tbody>\n",
       "</table>\n",
       "</div>"
      ],
      "text/plain": [
       "            class     Alcohol   Malic aci          As  Alcalinity of ash  \\\n",
       "count  178.000000  178.000000  178.000000  178.000000         178.000000   \n",
       "mean     1.938202   13.000618    2.336348    2.366517          19.494944   \n",
       "std      0.775035    0.811827    1.117146    0.274344           3.339564   \n",
       "min      1.000000   11.030000    0.740000    1.360000          10.600000   \n",
       "25%      1.000000   12.362500    1.602500    2.210000          17.200000   \n",
       "50%      2.000000   13.050000    1.865000    2.360000          19.500000   \n",
       "75%      3.000000   13.677500    3.082500    2.557500          21.500000   \n",
       "max      3.000000   14.830000    5.800000    3.230000          30.000000   \n",
       "\n",
       "        Magnesium  Total phenols  Flavanoids  Nonflavanoid phenols  \\\n",
       "count  178.000000     178.000000  178.000000            178.000000   \n",
       "mean    99.741573       2.295112    2.029270              0.361854   \n",
       "std     14.282484       0.625851    0.998859              0.124453   \n",
       "min     70.000000       0.980000    0.340000              0.130000   \n",
       "25%     88.000000       1.742500    1.205000              0.270000   \n",
       "50%     98.000000       2.355000    2.135000              0.340000   \n",
       "75%    107.000000       2.800000    2.875000              0.437500   \n",
       "max    162.000000       3.880000    5.080000              0.660000   \n",
       "\n",
       "       Proanthocyanins  Color intensity         Hue  \\\n",
       "count       178.000000       178.000000  178.000000   \n",
       "mean          1.590899         5.058090    0.957449   \n",
       "std           0.572359         2.318286    0.228572   \n",
       "min           0.410000         1.280000    0.480000   \n",
       "25%           1.250000         3.220000    0.782500   \n",
       "50%           1.555000         4.690000    0.965000   \n",
       "75%           1.950000         6.200000    1.120000   \n",
       "max           3.580000        13.000000    1.710000   \n",
       "\n",
       "       OD280/OD315 of diluted wines      Proline  \n",
       "count                    178.000000   178.000000  \n",
       "mean                       2.611685   746.893258  \n",
       "std                        0.709990   314.907474  \n",
       "min                        1.270000   278.000000  \n",
       "25%                        1.937500   500.500000  \n",
       "50%                        2.780000   673.500000  \n",
       "75%                        3.170000   985.000000  \n",
       "max                        4.000000  1680.000000  "
      ]
     },
     "execution_count": 4,
     "metadata": {},
     "output_type": "execute_result"
    }
   ],
   "source": [
    "bv.describe()"
   ]
  },
  {
   "cell_type": "markdown",
   "id": "ba628182",
   "metadata": {},
   "source": [
    "## · model arbres de classificació"
   ]
  },
  {
   "cell_type": "code",
   "execution_count": 5,
   "id": "1f1a808f",
   "metadata": {},
   "outputs": [],
   "source": [
    "from sklearn.tree import DecisionTreeClassifier # Import Decision Tree Classifier\n",
    "from sklearn.model_selection import train_test_split # Import train_test_split function\n",
    "from sklearn import metrics #Import scikit-learn metrics module for accuracy calculation"
   ]
  },
  {
   "cell_type": "code",
   "execution_count": 6,
   "id": "8e6d46a9",
   "metadata": {},
   "outputs": [],
   "source": [
    "# selecció de característiques del dataset\n",
    "# divisió dataset característiques-variable objectiu\n",
    "\n",
    "caract = ['Alcohol', 'As', 'Magnesium', 'Color intensity']\n",
    "X = bv[caract] # característiques\n",
    "y = bv['class'] # variable objectiu"
   ]
  },
  {
   "cell_type": "code",
   "execution_count": 7,
   "id": "80294e1a",
   "metadata": {},
   "outputs": [],
   "source": [
    "# divisió dataset entrenament-test\n",
    "# 80% entrenament - 20% test\n",
    "\n",
    "X_train, X_test, y_train, y_test = train_test_split(X, y, test_size=0.2, random_state=1) "
   ]
  },
  {
   "cell_type": "code",
   "execution_count": 8,
   "id": "5bb837cb",
   "metadata": {},
   "outputs": [],
   "source": [
    "# creació objecte classificador de l'arbre de decisió\n",
    "\n",
    "clf = DecisionTreeClassifier()\n",
    "\n",
    "# entrenament classificador d'arbre de decisió\n",
    "\n",
    "clf = clf.fit(X_train,y_train)\n",
    "\n",
    "# predicció resposta conjunt dades prova\n",
    "\n",
    "y_pred = clf.predict(X_test)\n"
   ]
  },
  {
   "cell_type": "code",
   "execution_count": 9,
   "id": "9c448a12",
   "metadata": {},
   "outputs": [
    {
     "name": "stdout",
     "output_type": "stream",
     "text": [
      "accuracy: 0.8055555555555556\n"
     ]
    }
   ],
   "source": [
    "# precisió del model (vegades que el classificacor és correcte)\n",
    "\n",
    "print(\"accuracy:\",metrics.accuracy_score(y_test, y_pred))"
   ]
  },
  {
   "cell_type": "code",
   "execution_count": 10,
   "id": "f6564fde",
   "metadata": {},
   "outputs": [
    {
     "name": "stdout",
     "output_type": "stream",
     "text": [
      "Requirement already satisfied: graphviz in ./opt/anaconda3/lib/python3.9/site-packages (0.20.1)\r\n"
     ]
    }
   ],
   "source": [
    "! pip install graphviz"
   ]
  },
  {
   "cell_type": "code",
   "execution_count": 11,
   "id": "52dd3798",
   "metadata": {},
   "outputs": [
    {
     "name": "stdout",
     "output_type": "stream",
     "text": [
      "Requirement already satisfied: pydotplus in ./opt/anaconda3/lib/python3.9/site-packages (2.0.2)\r\n",
      "Requirement already satisfied: pyparsing>=2.0.1 in ./opt/anaconda3/lib/python3.9/site-packages (from pydotplus) (3.0.4)\r\n"
     ]
    }
   ],
   "source": [
    "! pip install pydotplus"
   ]
  },
  {
   "cell_type": "markdown",
   "id": "af4e4c04",
   "metadata": {},
   "source": [
    "from sklearn.tree import export_graphviz\n",
    "from sklearn.externals.six import StringIO  \n",
    "from IPython.display import Image  \n",
    "import pydotplus\n",
    "\n",
    "dot_data = StringIO()\n",
    "export_graphviz(clf, out_file=dot_data,  \n",
    "                filled=True, rounded=True,\n",
    "                special_characters=True,feature_names = feature_cols,class_names=['0','1'])\n",
    "graph = pydotplus.graph_from_dot_data(dot_data.getvalue())  \n",
    "graph.write_png('bon_vi.png')\n",
    "Image(graph.create_png())\n",
    "\n",
    "\n",
    "### No module named 'sklearn.externals.six' / no és possible veure l'arbre de classificació"
   ]
  },
  {
   "cell_type": "markdown",
   "id": "77dface2",
   "metadata": {},
   "source": [
    "## · model K-nearest Neighbors (KNN)"
   ]
  },
  {
   "cell_type": "code",
   "execution_count": 13,
   "id": "15adc45d",
   "metadata": {},
   "outputs": [],
   "source": [
    "# creació de categories (3, segons dataframe) i assignació a una columna (As) \n",
    "\n",
    "bv[\"bv-cat\"] = pd.qcut(bv[\"As\"], 3, retbins=False, labels=[1, 2, 3])"
   ]
  },
  {
   "cell_type": "code",
   "execution_count": 14,
   "id": "8caddccf",
   "metadata": {},
   "outputs": [],
   "source": [
    "# divisió conjunt dades en els seus atributs i etiquetes:\n",
    "\n",
    "yk = bv['bv-cat']\n",
    "Xk = bv.drop(['As', 'bv-cat'], axis = 1)"
   ]
  },
  {
   "cell_type": "code",
   "execution_count": 15,
   "id": "b282b58c",
   "metadata": {},
   "outputs": [],
   "source": [
    "# divisio del dataset en train/test\n",
    "\n",
    "Xk_train, Xk_test, yk_train, yk_test = train_test_split(Xk, yk, test_size=0.20, random_state=1)"
   ]
  },
  {
   "cell_type": "code",
   "execution_count": 16,
   "id": "5ff5318c",
   "metadata": {},
   "outputs": [],
   "source": [
    "# escalat de característiques per la classificació\n",
    "\n",
    "from sklearn.preprocessing import StandardScaler\n",
    "\n",
    "scaler = StandardScaler()\n",
    "scaler.fit(Xk_train)\n",
    "\n",
    "Xk_train = scaler.transform(Xk_train)\n",
    "Xk_test = scaler.transform(Xk_test)"
   ]
  },
  {
   "cell_type": "code",
   "execution_count": 17,
   "id": "799d0457",
   "metadata": {},
   "outputs": [
    {
     "data": {
      "text/plain": [
       "KNeighborsClassifier()"
      ]
     },
     "execution_count": 17,
     "metadata": {},
     "output_type": "execute_result"
    }
   ],
   "source": [
    "# entrenament i predicció per la classificació (aplicar classificació a les dades)\n",
    "# aplicació del kNN_classifier (utilitza 5 veins)\n",
    "\n",
    "from sklearn.neighbors import KNeighborsClassifier\n",
    "\n",
    "classifier = KNeighborsClassifier()\n",
    "classifier.fit(Xk_train, yk_train)"
   ]
  },
  {
   "cell_type": "code",
   "execution_count": 18,
   "id": "f36dd468",
   "metadata": {},
   "outputs": [
    {
     "name": "stdout",
     "output_type": "stream",
     "text": [
      "0.5277777777777778\n"
     ]
    }
   ],
   "source": [
    "# ajustat el KNeighborsClassifier -> es pot predir les classes de dades de prova\n",
    "\n",
    "y_pred_k = classifier.predict(Xk_test)\n",
    "\n",
    "\n",
    "# evaluació de les prediccions -> per classificació amb accurancy\n",
    "\n",
    "acc =  classifier.score(Xk_test, yk_test)\n",
    "print(acc) "
   ]
  },
  {
   "cell_type": "markdown",
   "id": "1d6ff129",
   "metadata": {},
   "source": [
    "## · model SVM (support vector machine)"
   ]
  },
  {
   "cell_type": "code",
   "execution_count": 19,
   "id": "d07dd858",
   "metadata": {},
   "outputs": [],
   "source": [
    "from sklearn import svm\n",
    "\n",
    "# creació classifacador SVM\n",
    "\n",
    "#kernel lineal\n",
    "\n",
    "clf_s = svm.SVC(kernel='linear') # Linear Kernel\n",
    "\n",
    "# entrenament del model amb training sets\n",
    "\n",
    "clf_s.fit(X_train, y_train)\n",
    "\n",
    "# predicció pel dataset\n",
    "\n",
    "y_pred_s = clf_s.predict(X_test)"
   ]
  },
  {
   "cell_type": "code",
   "execution_count": 20,
   "id": "8ad7f4c8",
   "metadata": {},
   "outputs": [
    {
     "name": "stdout",
     "output_type": "stream",
     "text": [
      "accuracy_svm: 0.9166666666666666\n"
     ]
    }
   ],
   "source": [
    "# Model Accuracy: how often is the classifier correct?\n",
    "\n",
    "print(\"accuracy_svm:\",metrics.accuracy_score(y_test, y_pred_s))"
   ]
  },
  {
   "cell_type": "markdown",
   "id": "d4f532d1",
   "metadata": {},
   "source": [
    "# EXERCICI 2\n",
    "## comparació dels models de classificació utilitzant la precisió (accuracy), una matriu de confusió i d’altres mètriques més avançades."
   ]
  },
  {
   "cell_type": "markdown",
   "id": "5c8047d0",
   "metadata": {},
   "source": [
    "## · accuracy -> millor model SVM"
   ]
  },
  {
   "cell_type": "code",
   "execution_count": 29,
   "id": "20d5c2d2",
   "metadata": {},
   "outputs": [
    {
     "name": "stdout",
     "output_type": "stream",
     "text": [
      "accuracy - arbre classificacio: 0.8055555555555556\n"
     ]
    }
   ],
   "source": [
    "# calculate accuracy - arbre classificació \n",
    "\n",
    "print(\"accuracy - arbre classificacio:\",metrics.accuracy_score(y_test, y_pred))"
   ]
  },
  {
   "cell_type": "code",
   "execution_count": 32,
   "id": "f2d59a8a",
   "metadata": {},
   "outputs": [
    {
     "name": "stdout",
     "output_type": "stream",
     "text": [
      "accuracy - knn: 0.5277777777777778\n"
     ]
    }
   ],
   "source": [
    "# calculate accuracy - knn \n",
    "\n",
    "acc =  classifier.score(Xk_test, yk_test)\n",
    "print(\"accuracy - knn:\", (acc))"
   ]
  },
  {
   "cell_type": "code",
   "execution_count": 31,
   "id": "c176dad5",
   "metadata": {},
   "outputs": [
    {
     "name": "stdout",
     "output_type": "stream",
     "text": [
      "accuracy_svm: 0.9166666666666666\n"
     ]
    }
   ],
   "source": [
    "# calculate accuracy - svm\n",
    "      \n",
    "print(\"accuracy_svm:\",metrics.accuracy_score(y_test, y_pred_s))"
   ]
  },
  {
   "cell_type": "code",
   "execution_count": 33,
   "id": "66c40650",
   "metadata": {},
   "outputs": [
    {
     "data": {
      "text/plain": [
       "1    0.388889\n",
       "Name: class, dtype: float64"
      ]
     },
     "execution_count": 33,
     "metadata": {},
     "output_type": "execute_result"
    }
   ],
   "source": [
    "# calcul null accuracy (for multi-class classification problems)\n",
    "y_test.value_counts().head(1) / len(y_test)"
   ]
  },
  {
   "cell_type": "markdown",
   "id": "284cf4ad",
   "metadata": {},
   "source": [
    "##  · matriu de confusió"
   ]
  },
  {
   "cell_type": "code",
   "execution_count": 52,
   "id": "de4f7312",
   "metadata": {},
   "outputs": [
    {
     "name": "stdout",
     "output_type": "stream",
     "text": [
      "True [3 2 1 2 1 3 2 1 3 2 1 1 2 1 2 2 3 1 2 1 1 2 3 2 1]\n",
      "Pred [1 2 1 2 1 2 3 1 3 2 1 1 2 1 2 2 1 3 2 3 1 2 1 2 1]\n"
     ]
    }
   ],
   "source": [
    "# matriu de confusió -> descriu rendiment model classificació\n",
    "\n",
    "# print the first 25 true and predicted responses\n",
    "print('True', y_test.values[0:25])\n",
    "print('Pred', y_pred[0:25])"
   ]
  },
  {
   "cell_type": "code",
   "execution_count": 54,
   "id": "8c04ef14",
   "metadata": {},
   "outputs": [
    {
     "name": "stdout",
     "output_type": "stream",
     "text": [
      "[[12  0  2]\n",
      " [ 0 12  1]\n",
      " [ 3  1  5]]\n"
     ]
    }
   ],
   "source": [
    "# save confusion matrix and slice into four pieces\n",
    "confusion = metrics.confusion_matrix(y_test, y_pred)\n",
    "print(confusion)\n",
    "#[row, column]\n",
    "TP = confusion[1, 1]\n",
    "TN = confusion[0, 0]\n",
    "FP = confusion[0, 1]\n",
    "FN = confusion[1, 0]"
   ]
  },
  {
   "cell_type": "code",
   "execution_count": 55,
   "id": "dade4752",
   "metadata": {},
   "outputs": [
    {
     "name": "stdout",
     "output_type": "stream",
     "text": [
      "1.0\n",
      "0.8055555555555556\n"
     ]
    }
   ],
   "source": [
    "print((TP + TN) / float(TP + TN + FP + FN))\n",
    "print(metrics.accuracy_score(y_test, y_pred))"
   ]
  },
  {
   "cell_type": "code",
   "execution_count": 56,
   "id": "ac739f28",
   "metadata": {},
   "outputs": [
    {
     "name": "stdout",
     "output_type": "stream",
     "text": [
      "0.0\n",
      "0.19444444444444442\n"
     ]
    }
   ],
   "source": [
    "classification_error = (FP + FN) / float(TP + TN + FP + FN)\n",
    "print(classification_error)\n",
    "print(1 - metrics.accuracy_score(y_test, y_pred))"
   ]
  },
  {
   "cell_type": "code",
   "execution_count": 59,
   "id": "acb1399a",
   "metadata": {},
   "outputs": [
    {
     "name": "stdout",
     "output_type": "stream",
     "text": [
      "1.0\n"
     ]
    }
   ],
   "source": [
    "sensitivity = TP / float(FN + TP)\n",
    "print(sensitivity)"
   ]
  },
  {
   "cell_type": "code",
   "execution_count": 60,
   "id": "1060cf12",
   "metadata": {},
   "outputs": [
    {
     "name": "stdout",
     "output_type": "stream",
     "text": [
      "1.0\n"
     ]
    }
   ],
   "source": [
    "specificity = TN / (TN + FP)\n",
    "print(specificity)"
   ]
  },
  {
   "cell_type": "code",
   "execution_count": 61,
   "id": "5fefa277",
   "metadata": {},
   "outputs": [
    {
     "name": "stdout",
     "output_type": "stream",
     "text": [
      "0.0\n",
      "0.0\n"
     ]
    }
   ],
   "source": [
    "false_positive_rate = FP / float(TN + FP)\n",
    "print(false_positive_rate)\n",
    "print(1 - specificity)"
   ]
  },
  {
   "cell_type": "code",
   "execution_count": 63,
   "id": "e140e91e",
   "metadata": {},
   "outputs": [
    {
     "name": "stdout",
     "output_type": "stream",
     "text": [
      "1.0\n"
     ]
    }
   ],
   "source": [
    "precision = TP / float(TP + FP)\n",
    "print(precision)"
   ]
  },
  {
   "cell_type": "markdown",
   "id": "9d64e368",
   "metadata": {},
   "source": [
    "# EXERCICI 3\n",
    "## entrenament amb els diferents paràmetres per millorar la predicció"
   ]
  },
  {
   "cell_type": "code",
   "execution_count": 72,
   "id": "c243187c",
   "metadata": {},
   "outputs": [
    {
     "name": "stdout",
     "output_type": "stream",
     "text": [
      "Training x Shape: (133, 4)\n",
      "Training y Shape: (133,)\n",
      "Testing x Shape: (45, 4)\n",
      "Testing y Shape: (45,)\n"
     ]
    }
   ],
   "source": [
    "# numpy per convertir en matrius, fet en el primer pas (exercici 1)\n",
    "# targets, labels -> valors que es volen predir\n",
    "# features -> característiques, columnes que el model utilitza per fer una predicció = x\n",
    "# label = y\n",
    "\n",
    "# skicit-learn to split data into training and testing sets\n",
    "\n",
    "from sklearn.model_selection import train_test_split\n",
    "\n",
    "# split the data into training and testing sets\n",
    "train_x, test_x, train_y, test_y = train_test_split(X, y, test_size = 0.25, random_state = 178)\n",
    "\n",
    "# valors per train/test\n",
    "\n",
    "print('Training x Shape:', train_x.shape)\n",
    "print('Training y Shape:', train_y.shape)\n",
    "print('Testing x Shape:', test_x.shape)\n",
    "print('Testing y Shape:', test_y.shape)"
   ]
  },
  {
   "cell_type": "markdown",
   "id": "eeeec0bd",
   "metadata": {},
   "source": [
    "# EXERCICI 4\n",
    "## comparació del rendiment amb aproximació traint/test o cross-validation"
   ]
  },
  {
   "cell_type": "code",
   "execution_count": 85,
   "id": "4c73e164",
   "metadata": {},
   "outputs": [
    {
     "data": {
      "text/plain": [
       "array([0.72222222, 0.66666667, 0.83333333, 0.72222222, 0.94444444,\n",
       "       1.        , 0.83333333, 0.94444444, 0.82352941, 0.94117647])"
      ]
     },
     "execution_count": 85,
     "metadata": {},
     "output_type": "execute_result"
    }
   ],
   "source": [
    "# estimació precisió\n",
    "\n",
    "from sklearn.model_selection import cross_val_score\n",
    "\n",
    "clf_cv= svm.SVC(kernel='linear', C=1, random_state=0)\n",
    "scores = cross_val_score(clf_cv, X, y, cv=10)\n",
    "scores"
   ]
  },
  {
   "cell_type": "code",
   "execution_count": 86,
   "id": "f7d46d45",
   "metadata": {},
   "outputs": [
    {
     "name": "stdout",
     "output_type": "stream",
     "text": [
      "0.84 precisi' amb desviació standard 0.11\n"
     ]
    }
   ],
   "source": [
    "print(\"%0.2f precisi' amb desviació standard %0.2f\" % (scores.mean(), scores.std()))"
   ]
  },
  {
   "cell_type": "code",
   "execution_count": 87,
   "id": "22f0c658",
   "metadata": {},
   "outputs": [
    {
     "data": {
      "text/plain": [
       "array([0.71282051, 0.6540404 , 0.82435897, 0.70793651, 0.93732194,\n",
       "       1.        , 0.81752137, 0.93732194, 0.81678322, 0.92592593])"
      ]
     },
     "execution_count": 87,
     "metadata": {},
     "output_type": "execute_result"
    }
   ],
   "source": [
    "from sklearn import metrics\n",
    "scores = cross_val_score(\n",
    "    clf_s, X, y, cv=10, scoring='f1_macro')\n",
    "scores"
   ]
  },
  {
   "cell_type": "code",
   "execution_count": 89,
   "id": "603d6fd6",
   "metadata": {},
   "outputs": [
    {
     "data": {
      "text/plain": [
       "array([0.88888889, 0.87037037, 0.83333333, 0.85185185, 0.83333333,\n",
       "       0.87037037, 0.85185185, 0.83333333, 0.87037037, 0.87037037])"
      ]
     },
     "execution_count": 89,
     "metadata": {},
     "output_type": "execute_result"
    }
   ],
   "source": [
    "from sklearn.model_selection import ShuffleSplit\n",
    "n_samples = X.shape[0]\n",
    "cv = ShuffleSplit(n_splits=10, test_size=0.3, random_state=0)\n",
    "cross_val_score(clf_s, X, y, cv=cv)"
   ]
  },
  {
   "cell_type": "code",
   "execution_count": 92,
   "id": "fa7b0b7e",
   "metadata": {},
   "outputs": [
    {
     "name": "stdout",
     "output_type": "stream",
     "text": [
      "[9 1 6 7 3 0 5] [2 8 4]\n",
      "[2 9 8 0 6 7 4] [3 5 1]\n",
      "[4 5 1 0 6 9 7] [2 3 8]\n",
      "[2 7 5 8 0 3 4] [6 1 9]\n",
      "[4 1 0 6 8 9 3] [5 2 7]\n",
      "[5 2 6 3 7 4 0] [1 8 9]\n",
      "[7 8 6 5 4 9 0] [3 2 1]\n",
      "[3 5 6 7 1 8 4] [0 9 2]\n",
      "[1 4 5 3 6 0 2] [7 8 9]\n",
      "[0 8 3 7 9 6 4] [1 2 5]\n"
     ]
    }
   ],
   "source": [
    "X = np.arange(10)\n",
    "ss = ShuffleSplit(n_splits=10, test_size=0.25, random_state=0)\n",
    "for train_index, test_index in ss.split(X):\n",
    "    print(\"%s %s\" % (train_index, test_index))"
   ]
  },
  {
   "cell_type": "code",
   "execution_count": 93,
   "id": "5b861d48",
   "metadata": {},
   "outputs": [
    {
     "name": "stdout",
     "output_type": "stream",
     "text": [
      "[2 3] [0 1]\n",
      "[0 1] [2 3]\n"
     ]
    }
   ],
   "source": [
    "from sklearn.model_selection import KFold\n",
    "\n",
    "X = [\"a\", \"b\", \"c\", \"d\"]\n",
    "kf = KFold(n_splits=2)\n",
    "for train, test in kf.split(X):\n",
    "    print(\"%s %s\" % (train, test))"
   ]
  },
  {
   "cell_type": "code",
   "execution_count": 96,
   "id": "37dcff65",
   "metadata": {},
   "outputs": [
    {
     "name": "stdout",
     "output_type": "stream",
     "text": [
      "[2 3] [0 1]\n",
      "[0 1] [2 3]\n",
      "[0 2] [1 3]\n",
      "[1 3] [0 2]\n",
      "[0 3] [1 2]\n",
      "[1 2] [0 3]\n",
      "[1 2] [0 3]\n",
      "[0 3] [1 2]\n",
      "[0 3] [1 2]\n",
      "[1 2] [0 3]\n"
     ]
    }
   ],
   "source": [
    "# repetició kfold n vegades\n",
    "\n",
    "from sklearn.model_selection import RepeatedKFold\n",
    "\n",
    "X = np.array([[1, 2], [3, 4], [1, 2], [3, 4]])\n",
    "random_state = 12883823\n",
    "rkf = RepeatedKFold(n_splits=2, n_repeats=5, random_state=random_state)\n",
    "for train, test in rkf.split(X):\n",
    "    print(\"%s %s\" % (train, test))"
   ]
  },
  {
   "cell_type": "markdown",
   "id": "d43609ef",
   "metadata": {},
   "source": [
    "# EXERCICI 5\n",
    "## aplicació de processos d'enginyeria per millorar els resultats (normalització, estandarització, mostreig...)"
   ]
  },
  {
   "cell_type": "code",
   "execution_count": 100,
   "id": "69c3bbd7",
   "metadata": {},
   "outputs": [
    {
     "data": {
      "text/html": [
       "<div>\n",
       "<style scoped>\n",
       "    .dataframe tbody tr th:only-of-type {\n",
       "        vertical-align: middle;\n",
       "    }\n",
       "\n",
       "    .dataframe tbody tr th {\n",
       "        vertical-align: top;\n",
       "    }\n",
       "\n",
       "    .dataframe thead th {\n",
       "        text-align: right;\n",
       "    }\n",
       "</style>\n",
       "<table border=\"1\" class=\"dataframe\">\n",
       "  <thead>\n",
       "    <tr style=\"text-align: right;\">\n",
       "      <th></th>\n",
       "      <th>Alcohol</th>\n",
       "      <th>As</th>\n",
       "      <th>Magnesium</th>\n",
       "      <th>Color intensity</th>\n",
       "    </tr>\n",
       "  </thead>\n",
       "  <tbody>\n",
       "    <tr>\n",
       "      <th>0</th>\n",
       "      <td>1.514341</td>\n",
       "      <td>0.231400</td>\n",
       "      <td>1.908522</td>\n",
       "      <td>0.251009</td>\n",
       "    </tr>\n",
       "    <tr>\n",
       "      <th>1</th>\n",
       "      <td>0.245597</td>\n",
       "      <td>-0.825667</td>\n",
       "      <td>0.018094</td>\n",
       "      <td>-0.292496</td>\n",
       "    </tr>\n",
       "    <tr>\n",
       "      <th>2</th>\n",
       "      <td>0.196325</td>\n",
       "      <td>1.106214</td>\n",
       "      <td>0.088110</td>\n",
       "      <td>0.268263</td>\n",
       "    </tr>\n",
       "    <tr>\n",
       "      <th>3</th>\n",
       "      <td>1.686791</td>\n",
       "      <td>0.486554</td>\n",
       "      <td>0.928300</td>\n",
       "      <td>1.182732</td>\n",
       "    </tr>\n",
       "    <tr>\n",
       "      <th>4</th>\n",
       "      <td>0.294868</td>\n",
       "      <td>1.835226</td>\n",
       "      <td>1.278379</td>\n",
       "      <td>-0.318377</td>\n",
       "    </tr>\n",
       "    <tr>\n",
       "      <th>...</th>\n",
       "      <td>...</td>\n",
       "      <td>...</td>\n",
       "      <td>...</td>\n",
       "      <td>...</td>\n",
       "    </tr>\n",
       "    <tr>\n",
       "      <th>173</th>\n",
       "      <td>0.873810</td>\n",
       "      <td>0.304301</td>\n",
       "      <td>-0.331985</td>\n",
       "      <td>1.139596</td>\n",
       "    </tr>\n",
       "    <tr>\n",
       "      <th>174</th>\n",
       "      <td>0.491955</td>\n",
       "      <td>0.413653</td>\n",
       "      <td>0.158126</td>\n",
       "      <td>0.967055</td>\n",
       "    </tr>\n",
       "    <tr>\n",
       "      <th>175</th>\n",
       "      <td>0.331822</td>\n",
       "      <td>-0.388260</td>\n",
       "      <td>1.418411</td>\n",
       "      <td>2.217979</td>\n",
       "    </tr>\n",
       "    <tr>\n",
       "      <th>176</th>\n",
       "      <td>0.208643</td>\n",
       "      <td>0.012696</td>\n",
       "      <td>1.418411</td>\n",
       "      <td>1.829761</td>\n",
       "    </tr>\n",
       "    <tr>\n",
       "      <th>177</th>\n",
       "      <td>1.391162</td>\n",
       "      <td>1.361368</td>\n",
       "      <td>-0.261969</td>\n",
       "      <td>1.786626</td>\n",
       "    </tr>\n",
       "  </tbody>\n",
       "</table>\n",
       "<p>178 rows × 4 columns</p>\n",
       "</div>"
      ],
      "text/plain": [
       "      Alcohol        As  Magnesium  Color intensity\n",
       "0    1.514341  0.231400   1.908522         0.251009\n",
       "1    0.245597 -0.825667   0.018094        -0.292496\n",
       "2    0.196325  1.106214   0.088110         0.268263\n",
       "3    1.686791  0.486554   0.928300         1.182732\n",
       "4    0.294868  1.835226   1.278379        -0.318377\n",
       "..        ...       ...        ...              ...\n",
       "173  0.873810  0.304301  -0.331985         1.139596\n",
       "174  0.491955  0.413653   0.158126         0.967055\n",
       "175  0.331822 -0.388260   1.418411         2.217979\n",
       "176  0.208643  0.012696   1.418411         1.829761\n",
       "177  1.391162  1.361368  -0.261969         1.786626\n",
       "\n",
       "[178 rows x 4 columns]"
      ]
     },
     "execution_count": 100,
     "metadata": {},
     "output_type": "execute_result"
    }
   ],
   "source": [
    "#definico columnes\n",
    "bv_x = bv[['Alcohol', 'As', 'Magnesium', 'Color intensity']]\n",
    "\n",
    "#standarització valors per cada variable predictora\n",
    "bv[['Alcohol', 'As', 'Magnesium', 'Color intensity']] = (bv_x-bv_x.mean())/bv_x.std()\n",
    "bv_x"
   ]
  },
  {
   "cell_type": "code",
   "execution_count": 104,
   "id": "480d5c60",
   "metadata": {},
   "outputs": [
    {
     "data": {
      "text/plain": [
       "Alcohol            1.297339e-16\n",
       "As                 1.122697e-17\n",
       "Magnesium          1.010428e-16\n",
       "Color intensity    1.546828e-16\n",
       "dtype: float64"
      ]
     },
     "execution_count": 104,
     "metadata": {},
     "output_type": "execute_result"
    }
   ],
   "source": [
    "#view mean of each predictor variable column\n",
    "bv[['Alcohol', 'As', 'Magnesium', 'Color intensity']].mean()\n",
    "\n",
    "\n"
   ]
  },
  {
   "cell_type": "code",
   "execution_count": 105,
   "id": "8729ce88",
   "metadata": {},
   "outputs": [
    {
     "data": {
      "text/plain": [
       "Alcohol            1.0\n",
       "As                 1.0\n",
       "Magnesium          1.0\n",
       "Color intensity    1.0\n",
       "dtype: float64"
      ]
     },
     "execution_count": 105,
     "metadata": {},
     "output_type": "execute_result"
    }
   ],
   "source": [
    "\n",
    "#view standard deviation of each predictor variable column\n",
    "bv[['Alcohol', 'As', 'Magnesium', 'Color intensity']].std()\n"
   ]
  },
  {
   "cell_type": "code",
   "execution_count": 108,
   "id": "c306ed66",
   "metadata": {},
   "outputs": [],
   "source": [
    "caract_2 = ['Alcohol', 'As', 'Magnesium', 'Color intensity']\n",
    "X3 = bv_x[caract_2] # característiques\n",
    "y3 = bv['class'] # variable objectiu"
   ]
  },
  {
   "cell_type": "code",
   "execution_count": 109,
   "id": "a00562c1",
   "metadata": {},
   "outputs": [],
   "source": [
    "# divisió dataset entrenament-test\n",
    "# 80% entrenament - 20% test\n",
    "\n",
    "X3_train, X3_test, y3_train, y3_test = train_test_split(X3, y3, test_size=0.2, random_state=1) "
   ]
  },
  {
   "cell_type": "code",
   "execution_count": 110,
   "id": "0a706a94",
   "metadata": {},
   "outputs": [],
   "source": [
    "# creació objecte classificador de l'arbre de decisió (3)\n",
    "\n",
    "clf3 = DecisionTreeClassifier()\n",
    "\n",
    "# entrenament classificador d'arbre de decisió\n",
    "\n",
    "clf3 = clf3.fit(X3_train,y3_train)\n",
    "\n",
    "# predicció resposta conjunt dades prova\n",
    "\n",
    "y3_pred = clf3.predict(X3_test)\n"
   ]
  },
  {
   "cell_type": "code",
   "execution_count": 111,
   "id": "4edf2906",
   "metadata": {},
   "outputs": [
    {
     "name": "stdout",
     "output_type": "stream",
     "text": [
      "accuracy: 0.7777777777777778\n"
     ]
    }
   ],
   "source": [
    "# precisió del model (vegades que el classificacor és correcte)\n",
    "\n",
    "print(\"accuracy:\",metrics.accuracy_score(y3_test, y3_pred))"
   ]
  }
 ],
 "metadata": {
  "kernelspec": {
   "display_name": "Python 3 (ipykernel)",
   "language": "python",
   "name": "python3"
  },
  "language_info": {
   "codemirror_mode": {
    "name": "ipython",
    "version": 3
   },
   "file_extension": ".py",
   "mimetype": "text/x-python",
   "name": "python",
   "nbconvert_exporter": "python",
   "pygments_lexer": "ipython3",
   "version": "3.9.12"
  }
 },
 "nbformat": 4,
 "nbformat_minor": 5
}
