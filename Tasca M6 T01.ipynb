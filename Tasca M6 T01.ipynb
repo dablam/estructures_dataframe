{
 "cells": [
  {
   "cell_type": "markdown",
   "id": "13731345",
   "metadata": {},
   "source": [
    "# EXERCICI 1\n",
    "## creació de dos models de regressió diferents per intentar predir el millor possible el preu de les vivendes (MEDV) de l'arxiu adjunt."
   ]
  },
  {
   "cell_type": "code",
   "execution_count": 1,
   "id": "a5824e44",
   "metadata": {},
   "outputs": [
    {
     "name": "stdout",
     "output_type": "stream",
     "text": [
      "Requirement already satisfied: mysql-connector-python in ./opt/anaconda3/lib/python3.9/site-packages (8.0.30)\r\n",
      "Requirement already satisfied: protobuf<=3.20.1,>=3.11.0 in ./opt/anaconda3/lib/python3.9/site-packages (from mysql-connector-python) (3.19.1)\r\n"
     ]
    }
   ],
   "source": [
    "! pip install mysql-connector-python"
   ]
  },
  {
   "cell_type": "code",
   "execution_count": 2,
   "id": "491a359f",
   "metadata": {},
   "outputs": [
    {
     "name": "stdout",
     "output_type": "stream",
     "text": [
      "Requirement already satisfied: pip in ./opt/anaconda3/lib/python3.9/site-packages (23.0.1)\n",
      "Note: you may need to restart the kernel to use updated packages.\n"
     ]
    }
   ],
   "source": [
    "pip install --upgrade pip"
   ]
  },
  {
   "cell_type": "markdown",
   "id": "c242383f",
   "metadata": {},
   "source": [
    "## · model: regressió lineal múltiple"
   ]
  },
  {
   "cell_type": "code",
   "execution_count": 7,
   "id": "4e62dc7a",
   "metadata": {},
   "outputs": [
    {
     "data": {
      "text/html": [
       "<div>\n",
       "<style scoped>\n",
       "    .dataframe tbody tr th:only-of-type {\n",
       "        vertical-align: middle;\n",
       "    }\n",
       "\n",
       "    .dataframe tbody tr th {\n",
       "        vertical-align: top;\n",
       "    }\n",
       "\n",
       "    .dataframe thead th {\n",
       "        text-align: right;\n",
       "    }\n",
       "</style>\n",
       "<table border=\"1\" class=\"dataframe\">\n",
       "  <thead>\n",
       "    <tr style=\"text-align: right;\">\n",
       "      <th></th>\n",
       "      <th>CRIM</th>\n",
       "      <th>ZN</th>\n",
       "      <th>INDUS</th>\n",
       "      <th>CHAS</th>\n",
       "      <th>NOX</th>\n",
       "      <th>RM</th>\n",
       "      <th>AGE</th>\n",
       "      <th>DIS</th>\n",
       "      <th>RAD</th>\n",
       "      <th>TAX</th>\n",
       "      <th>PTRATIO</th>\n",
       "      <th>B</th>\n",
       "      <th>LSTAT</th>\n",
       "      <th>MEDV</th>\n",
       "    </tr>\n",
       "  </thead>\n",
       "  <tbody>\n",
       "    <tr>\n",
       "      <th>0</th>\n",
       "      <td>0.00632</td>\n",
       "      <td>18.0</td>\n",
       "      <td>2.31</td>\n",
       "      <td>0</td>\n",
       "      <td>0.538</td>\n",
       "      <td>6.575</td>\n",
       "      <td>65.2</td>\n",
       "      <td>4.0900</td>\n",
       "      <td>1</td>\n",
       "      <td>296.0</td>\n",
       "      <td>15.3</td>\n",
       "      <td>396.90</td>\n",
       "      <td>4.98</td>\n",
       "      <td>24.0</td>\n",
       "    </tr>\n",
       "    <tr>\n",
       "      <th>1</th>\n",
       "      <td>0.02731</td>\n",
       "      <td>0.0</td>\n",
       "      <td>7.07</td>\n",
       "      <td>0</td>\n",
       "      <td>0.469</td>\n",
       "      <td>6.421</td>\n",
       "      <td>78.9</td>\n",
       "      <td>4.9671</td>\n",
       "      <td>2</td>\n",
       "      <td>242.0</td>\n",
       "      <td>17.8</td>\n",
       "      <td>396.90</td>\n",
       "      <td>9.14</td>\n",
       "      <td>21.6</td>\n",
       "    </tr>\n",
       "    <tr>\n",
       "      <th>2</th>\n",
       "      <td>0.02729</td>\n",
       "      <td>0.0</td>\n",
       "      <td>7.07</td>\n",
       "      <td>0</td>\n",
       "      <td>0.469</td>\n",
       "      <td>7.185</td>\n",
       "      <td>61.1</td>\n",
       "      <td>4.9671</td>\n",
       "      <td>2</td>\n",
       "      <td>242.0</td>\n",
       "      <td>17.8</td>\n",
       "      <td>392.83</td>\n",
       "      <td>4.03</td>\n",
       "      <td>34.7</td>\n",
       "    </tr>\n",
       "    <tr>\n",
       "      <th>3</th>\n",
       "      <td>0.03237</td>\n",
       "      <td>0.0</td>\n",
       "      <td>2.18</td>\n",
       "      <td>0</td>\n",
       "      <td>0.458</td>\n",
       "      <td>6.998</td>\n",
       "      <td>45.8</td>\n",
       "      <td>6.0622</td>\n",
       "      <td>3</td>\n",
       "      <td>222.0</td>\n",
       "      <td>18.7</td>\n",
       "      <td>394.63</td>\n",
       "      <td>2.94</td>\n",
       "      <td>33.4</td>\n",
       "    </tr>\n",
       "    <tr>\n",
       "      <th>4</th>\n",
       "      <td>0.06905</td>\n",
       "      <td>0.0</td>\n",
       "      <td>2.18</td>\n",
       "      <td>0</td>\n",
       "      <td>0.458</td>\n",
       "      <td>7.147</td>\n",
       "      <td>54.2</td>\n",
       "      <td>6.0622</td>\n",
       "      <td>3</td>\n",
       "      <td>222.0</td>\n",
       "      <td>18.7</td>\n",
       "      <td>396.90</td>\n",
       "      <td>5.33</td>\n",
       "      <td>36.2</td>\n",
       "    </tr>\n",
       "  </tbody>\n",
       "</table>\n",
       "</div>"
      ],
      "text/plain": [
       "      CRIM    ZN  INDUS  CHAS    NOX     RM   AGE     DIS  RAD    TAX  \\\n",
       "0  0.00632  18.0   2.31     0  0.538  6.575  65.2  4.0900    1  296.0   \n",
       "1  0.02731   0.0   7.07     0  0.469  6.421  78.9  4.9671    2  242.0   \n",
       "2  0.02729   0.0   7.07     0  0.469  7.185  61.1  4.9671    2  242.0   \n",
       "3  0.03237   0.0   2.18     0  0.458  6.998  45.8  6.0622    3  222.0   \n",
       "4  0.06905   0.0   2.18     0  0.458  7.147  54.2  6.0622    3  222.0   \n",
       "\n",
       "   PTRATIO       B  LSTAT  MEDV  \n",
       "0     15.3  396.90   4.98  24.0  \n",
       "1     17.8  396.90   9.14  21.6  \n",
       "2     17.8  392.83   4.03  34.7  \n",
       "3     18.7  394.63   2.94  33.4  \n",
       "4     18.7  396.90   5.33  36.2  "
      ]
     },
     "execution_count": 7,
     "metadata": {},
     "output_type": "execute_result"
    }
   ],
   "source": [
    "# scikit-learn (no són necessaris resultats detallats i es vol un enfocament coherent amb altres tècniques de regressió)\n",
    "\n",
    "# step_1: import packages and classes, per als dos models de regressió seran iguals.\n",
    "\n",
    "import numpy as np\n",
    "import pandas as pd\n",
    "from sklearn.linear_model import LinearRegression\n",
    "\n",
    "# descarrega del dataset\n",
    "pv = pd.read_csv('housing data.csv')\n",
    "pv.head()"
   ]
  },
  {
   "cell_type": "code",
   "execution_count": 95,
   "id": "976205de",
   "metadata": {},
   "outputs": [],
   "source": [
    "# step_2: obtenir variables que volem estudiar\n",
    "\n",
    "# y: variable dependent (MEDV) - array unidimensional\n",
    "# x: variables independents (DIS i RM) - array bidimensional\n",
    "\n",
    "x = pv[\n",
    "    [\"RM\", \"DIS\"]\n",
    "]\n",
    "y = pv[\"MEDV\"]\n",
    "x,y = np.array(x), np.array(y)\n",
    "\n",
    "# columnes con vertides en matrius"
   ]
  },
  {
   "cell_type": "code",
   "execution_count": 96,
   "id": "b5335f90",
   "metadata": {},
   "outputs": [
    {
     "data": {
      "text/plain": [
       "array([[6.575 , 4.09  ],\n",
       "       [6.421 , 4.9671],\n",
       "       [7.185 , 4.9671],\n",
       "       ...,\n",
       "       [6.976 , 2.1675],\n",
       "       [6.794 , 2.3889],\n",
       "       [6.03  , 2.505 ]])"
      ]
     },
     "execution_count": 96,
     "metadata": {},
     "output_type": "execute_result"
    }
   ],
   "source": [
    "x"
   ]
  },
  {
   "cell_type": "code",
   "execution_count": 97,
   "id": "55b0198f",
   "metadata": {},
   "outputs": [
    {
     "data": {
      "text/plain": [
       "array([24. , 21.6, 34.7, 33.4, 36.2, 28.7, 22.9, 27.1, 16.5, 18.9, 15. ,\n",
       "       18.9, 21.7, 20.4, 18.2, 19.9, 23.1, 17.5, 20.2, 18.2, 13.6, 19.6,\n",
       "       15.2, 14.5, 15.6, 13.9, 16.6, 14.8, 18.4, 21. , 12.7, 14.5, 13.2,\n",
       "       13.1, 13.5, 18.9, 20. , 21. , 24.7, 30.8, 34.9, 26.6, 25.3, 24.7,\n",
       "       21.2, 19.3, 20. , 16.6, 14.4, 19.4, 19.7, 20.5, 25. , 23.4, 18.9,\n",
       "       35.4, 24.7, 31.6, 23.3, 19.6, 18.7, 16. , 22.2, 25. , 33. , 23.5,\n",
       "       19.4, 22. , 17.4, 20.9, 24.2, 21.7, 22.8, 23.4, 24.1, 21.4, 20. ,\n",
       "       20.8, 21.2, 20.3, 28. , 23.9, 24.8, 22.9, 23.9, 26.6, 22.5, 22.2,\n",
       "       23.6, 28.7, 22.6, 22. , 22.9, 25. , 20.6, 28.4, 21.4, 38.7, 43.8,\n",
       "       33.2, 27.5, 26.5, 18.6, 19.3, 20.1, 19.5, 19.5, 20.4, 19.8, 19.4,\n",
       "       21.7, 22.8, 18.8, 18.7, 18.5, 18.3, 21.2, 19.2, 20.4, 19.3, 22. ,\n",
       "       20.3, 20.5, 17.3, 18.8, 21.4, 15.7, 16.2, 18. , 14.3, 19.2, 19.6,\n",
       "       23. , 18.4, 15.6, 18.1, 17.4, 17.1, 13.3, 17.8, 14. , 14.4, 13.4,\n",
       "       15.6, 11.8, 13.8, 15.6, 14.6, 17.8, 15.4, 21.5, 19.6, 15.3, 19.4,\n",
       "       17. , 15.6, 13.1, 41.3, 24.3, 23.3, 27. , 50. , 50. , 50. , 22.7,\n",
       "       25. , 50. , 23.8, 23.8, 22.3, 17.4, 19.1, 23.1, 23.6, 22.6, 29.4,\n",
       "       23.2, 24.6, 29.9, 37.2, 39.8, 36.2, 37.9, 32.5, 26.4, 29.6, 50. ,\n",
       "       32. , 29.8, 34.9, 37. , 30.5, 36.4, 31.1, 29.1, 50. , 33.3, 30.3,\n",
       "       34.6, 34.9, 32.9, 24.1, 42.3, 48.5, 50. , 22.6, 24.4, 22.5, 24.4,\n",
       "       20. , 21.7, 19.3, 22.4, 28.1, 23.7, 25. , 23.3, 28.7, 21.5, 23. ,\n",
       "       26.7, 21.7, 27.5, 30.1, 44.8, 50. , 37.6, 31.6, 46.7, 31.5, 24.3,\n",
       "       31.7, 41.7, 48.3, 29. , 24. , 25.1, 31.5, 23.7, 23.3, 22. , 20.1,\n",
       "       22.2, 23.7, 17.6, 18.5, 24.3, 20.5, 24.5, 26.2, 24.4, 24.8, 29.6,\n",
       "       42.8, 21.9, 20.9, 44. , 50. , 36. , 30.1, 33.8, 43.1, 48.8, 31. ,\n",
       "       36.5, 22.8, 30.7, 50. , 43.5, 20.7, 21.1, 25.2, 24.4, 35.2, 32.4,\n",
       "       32. , 33.2, 33.1, 29.1, 35.1, 45.4, 35.4, 46. , 50. , 32.2, 22. ,\n",
       "       20.1, 23.2, 22.3, 24.8, 28.5, 37.3, 27.9, 23.9, 21.7, 28.6, 27.1,\n",
       "       20.3, 22.5, 29. , 24.8, 22. , 26.4, 33.1, 36.1, 28.4, 33.4, 28.2,\n",
       "       22.8, 20.3, 16.1, 22.1, 19.4, 21.6, 23.8, 16.2, 17.8, 19.8, 23.1,\n",
       "       21. , 23.8, 23.1, 20.4, 18.5, 25. , 24.6, 23. , 22.2, 19.3, 22.6,\n",
       "       19.8, 17.1, 19.4, 22.2, 20.7, 21.1, 19.5, 18.5, 20.6, 19. , 18.7,\n",
       "       32.7, 16.5, 23.9, 31.2, 17.5, 17.2, 23.1, 24.5, 26.6, 22.9, 24.1,\n",
       "       18.6, 30.1, 18.2, 20.6, 17.8, 21.7, 22.7, 22.6, 25. , 19.9, 20.8,\n",
       "       16.8, 21.9, 27.5, 21.9, 23.1, 50. , 50. , 50. , 50. , 50. , 13.8,\n",
       "       13.8, 15. , 13.9, 13.3, 13.1, 10.2, 10.4, 10.9, 11.3, 12.3,  8.8,\n",
       "        7.2, 10.5,  7.4, 10.2, 11.5, 15.1, 23.2,  9.7, 13.8, 12.7, 13.1,\n",
       "       12.5,  8.5,  5. ,  6.3,  5.6,  7.2, 12.1,  8.3,  8.5,  5. , 11.9,\n",
       "       27.9, 17.2, 27.5, 15. , 17.2, 17.9, 16.3,  7. ,  7.2,  7.5, 10.4,\n",
       "        8.8,  8.4, 16.7, 14.2, 20.8, 13.4, 11.7,  8.3, 10.2, 10.9, 11. ,\n",
       "        9.5, 14.5, 14.1, 16.1, 14.3, 11.7, 13.4,  9.6,  8.7,  8.4, 12.8,\n",
       "       10.5, 17.1, 18.4, 15.4, 10.8, 11.8, 14.9, 12.6, 14.1, 13. , 13.4,\n",
       "       15.2, 16.1, 17.8, 14.9, 14.1, 12.7, 13.5, 14.9, 20. , 16.4, 17.7,\n",
       "       19.5, 20.2, 21.4, 19.9, 19. , 19.1, 19.1, 20.1, 19.9, 19.6, 23.2,\n",
       "       29.8, 13.8, 13.3, 16.7, 12. , 14.6, 21.4, 23. , 23.7, 25. , 21.8,\n",
       "       20.6, 21.2, 19.1, 20.6, 15.2,  7. ,  8.1, 13.6, 20.1, 21.8, 24.5,\n",
       "       23.1, 19.7, 18.3, 21.2, 17.5, 16.8, 22.4, 20.6, 23.9, 22. , 11.9])"
      ]
     },
     "execution_count": 97,
     "metadata": {},
     "output_type": "execute_result"
    }
   ],
   "source": [
    "y"
   ]
  },
  {
   "cell_type": "code",
   "execution_count": 98,
   "id": "e85f00fb",
   "metadata": {},
   "outputs": [],
   "source": [
    "# step_3: crear i ajustar model\n",
    "\n",
    "model_rlm = LinearRegression().fit(x, y)"
   ]
  },
  {
   "cell_type": "code",
   "execution_count": 99,
   "id": "d6cd308b",
   "metadata": {},
   "outputs": [
    {
     "name": "stdout",
     "output_type": "stream",
     "text": [
      "coeficient de determinació: 0.4955246476058477\n",
      "intercepte: -34.63605017547333\n",
      "coeficients: [8.80141183 0.48884854]\n"
     ]
    }
   ],
   "source": [
    "# step_4: obtenir resultats\n",
    "\n",
    "r_sq = model_rlm.score(x, y)\n",
    "\n",
    "print(f\"coeficient de determinació: {r_sq}\")\n",
    "\n",
    "print(f\"intercepte: {model_rlm.intercept_}\")\n",
    "\n",
    "print(f\"coeficients: {model_rlm.coef_}\")\n"
   ]
  },
  {
   "cell_type": "code",
   "execution_count": 100,
   "id": "40f20b6a",
   "metadata": {},
   "outputs": [
    {
     "name": "stdout",
     "output_type": "stream",
     "text": [
      "predicció resposta:\n",
      "[25.23262311 24.30597474 31.03025338 29.9197274  31.23113776 24.92052548\n",
      " 20.99628003 22.59515685 17.89792552 21.43016488 24.59312806 21.29554669\n",
      " 19.86012857 20.02480328 21.19854962 18.91052046 19.79946305 20.16587486\n",
      " 15.24036623 17.62554884 16.24441157 19.82577837 21.36632302 18.52848931\n",
      " 19.65425152 16.82067934 18.81534563 20.76312523 24.70679323 26.17680132\n",
      " 17.71571146 20.84706509 19.68285587 17.39216584 20.85532906 19.22540394\n",
      " 18.42427779 18.77543693 19.75391977 26.04958067 29.82538634 27.7461615\n",
      " 22.45651299 22.82617229 21.57637181 17.86689491 18.78224174 21.21771802\n",
      " 15.7523132  17.64542212 21.17812468 22.51593928 26.00129836 21.48617409\n",
      " 20.7648873  33.41670435 26.03470634 29.42393915 23.26887906 20.91861579\n",
      " 19.42498135 21.20638654 25.71803969 28.7805479  32.39778062 23.95685233\n",
      " 19.52974218 20.27518634 17.77558538 20.33679623 24.4272984  20.4138546\n",
      " 21.32920143 22.91345556 22.65354578 22.890714   22.60892674 21.40425339\n",
      " 22.66548379 19.26453233 27.21117149 26.26061901 23.47057146 22.28238086\n",
      " 23.93257269 25.8866734  20.46867221 21.0694004  28.70813555 29.33831749\n",
      " 23.35427586 23.24856115 23.85471467 21.82158854 22.1311598  25.38192659\n",
      " 21.31567433 38.09116527 35.89961373 32.34384335 25.92897066 26.44252374\n",
      " 23.06406971 20.70529134 20.82575888 17.89096542 17.80983337 20.32773223\n",
      " 23.53360961 21.43211252 21.24661957 25.77432221 18.55715411 20.22773676\n",
      " 21.51106612 18.74280198 21.05607467 19.70031291 18.25696233 17.1536719\n",
      " 18.1319106  19.28182222 18.84934375 17.85553459 18.08822678 19.02342728\n",
      " 15.62527907 16.3445952  22.85186727 15.94537952 23.23909304 22.15185608\n",
      " 22.58429208 17.81317649 17.18051639 22.15270637 18.6234551  23.07253379\n",
      " 17.72951157 20.31717554 20.49184141 10.24188438 13.56404016 14.18022607\n",
      "  9.17521327 20.01032929 15.63968329  9.43381443 11.75581429 15.37128804\n",
      " 20.03714997 13.70483068 10.26376982 16.4047089  20.16299455 20.36352051\n",
      " 12.61382958 27.38986751 19.61236751 23.52439846 21.25191896 32.24119459\n",
      " 35.03015812 40.13266443 18.07140582 20.17760014 36.15047943 18.27574481\n",
      " 22.0066531  22.81660817 18.25814198 18.28396388 15.67451622 23.127448\n",
      " 18.25224159 24.50921193 20.0862567  22.56662054 27.16677511 28.1807569\n",
      " 35.04684651 20.70980371 29.65823582 24.51936744 16.14769225 21.12231335\n",
      " 35.85173009 26.90717641 25.29843038 30.83451843 29.71020419 27.84430488\n",
      " 31.70812468 28.25399262 26.5289159  37.43628005 33.07283177 31.48857764\n",
      " 32.95841342 30.49515072 31.90337661 22.66332984 35.40777416 36.98336372\n",
      " 38.57641927 19.14176992 23.17056754 18.39140092 20.80803787 14.29298272\n",
      " 19.71567898 14.71840923 18.25931648 23.40165325 14.75093477 21.70298077\n",
      " 18.7080082  25.49532692 19.15358169 23.09949169 27.9415013  21.10586268\n",
      " 27.50842309 25.2112546  39.5313432  43.57119123 37.69929117 29.98045299\n",
      " 34.66151384 24.68071282 19.80000137 32.3948217  40.61771646 39.73441915\n",
      " 26.34747175 20.71456818 25.75385539 32.15248179 25.43182344 26.53199992\n",
      " 29.16468042 22.10594813 24.76262011 25.07066952 18.47898741 18.58460435\n",
      " 23.06089266 24.09945926 25.80940519 28.31780756 26.07457433 25.64330515\n",
      " 30.94939918 42.40883738 23.63030344 21.58837589 34.06706681 42.8518546\n",
      " 30.8308752  26.56613731 29.79301622 32.59660487 40.39693624 30.86811263\n",
      " 29.73045002 15.27089721 28.13971743 39.57305938 32.51446918 19.38337199\n",
      " 19.07012766 22.4498698  24.8226445  35.19016533 26.83721976 27.77488986\n",
      " 31.6640253  27.81955963 24.43868089 27.3237884  36.48598755 29.25605137\n",
      " 35.19857294 37.97440938 31.32051978 25.73162327 24.63998764 23.58891838\n",
      " 24.52186803 26.72222099 28.25172769 30.77773288 26.21860156 21.98018694\n",
      " 20.94162034 27.05351083 25.91812871 19.41364706 25.03551645 31.16129908\n",
      " 29.66505907 26.04986328 25.21372916 29.50001672 31.01711463 25.24151005\n",
      " 32.18546498 27.20067768 25.38307233 19.44263385 10.36497585 20.53689983\n",
      " 19.76025002 22.10861135 24.92380039 17.50451178 19.37020914 18.22460366\n",
      " 23.26141757 21.12330329 24.14139013 23.70131954 20.84118151 17.91031137\n",
      " 24.13290953 24.61338408 23.56601608 21.55049277 19.55978401 23.65244051\n",
      " 22.31112486 18.8311022  21.69156104 24.11084632 24.05803785 21.42397818\n",
      " 19.57665143 19.99315709 21.04414102 20.39283655 20.24321255 32.53543999\n",
      " 25.98874808 27.10033213 29.02545606 22.21307719 21.19211342 26.88641821\n",
      " 27.8402695  30.73495172 26.78311781 28.50415273 22.38717151 30.50787039\n",
      " 20.38114896 22.78393439 21.07575447 22.87364182 20.62118801 20.38474878\n",
      " 22.90640109 21.50372698 13.58546183 17.36965247 43.57145549 -2.50561219\n",
      "  9.90196602  0.10225832  9.75835729 24.84700588 27.70244669 20.64503858\n",
      " 17.62444762  9.11768221  2.34001276 30.37214586 24.54198947 25.8245981\n",
      " 22.19455025 20.81272859 27.3846414  23.71184894 14.86114194 14.69719681\n",
      "  4.51221416 12.50614694  7.02535622 10.11327659  9.0918643  13.64833874\n",
      " 16.58818231 19.68101866 10.5531217  20.74671878 18.04903824 23.16149169\n",
      " 22.55669381 16.7441488  14.08623731 17.60328019 18.834685   21.96080153\n",
      " 22.52941393 13.27511298 14.83033379 16.07917795  2.36010443 15.3505355\n",
      " 15.51260803 26.3876312  16.7244207  24.70166451  6.85650551 11.51220367\n",
      "  5.94813852 22.88912394 25.94458476 12.85201613 18.67515846 26.30177842\n",
      " 22.6985216  19.14162473 16.0281651  20.06732019 15.35254561 18.19057913\n",
      " 17.7143145  20.86098192 20.81730851 22.47910898 22.2387715  26.52481036\n",
      " 22.98868314 23.14191179 21.08943367 24.74716532 23.20883973 20.44598926\n",
      " 18.49032667 15.77782974 17.48285298 22.75531511 21.07997353 23.40824348\n",
      " 17.81407596 23.18405083 22.1865964  21.45606425 20.90626183 22.91074358\n",
      " 25.90056672 25.08868162 21.94413121 31.63178628 25.80006344 23.98389927\n",
      " 19.22270945 18.96773829 22.18216012 20.21378105 25.61199456 22.73667472\n",
      " 22.29917578 24.05710312 21.46056962 17.55033458 19.1536816  19.44064697\n",
      " 18.9428834  17.02677721 21.12512972 21.70303237 23.43458755 28.03600885\n",
      " 14.31701599 20.67664938 23.55924665 13.07356228 20.86172773 21.14178537\n",
      " 21.97627762 26.40217634 29.17798557 18.08113274 18.85751062 22.86979799\n",
      " 20.90918977 18.87728391 14.25699424 13.87291819 11.08051561 18.93601475\n",
      " 19.05421832 16.75789769 18.68540688 16.63604641 14.1716511  17.77342212\n",
      " 19.51733263 15.5521999  19.63130033 24.60331799 20.34683124 27.82217794\n",
      " 26.32855206 19.66102874]\n"
     ]
    }
   ],
   "source": [
    "# step_5: predir la resposta\n",
    "\n",
    "pred = model_rlm.predict(x)\n",
    "print(f\"predicció resposta:\\n{pred}\")"
   ]
  },
  {
   "cell_type": "markdown",
   "id": "ff294437",
   "metadata": {},
   "source": [
    "## · model: regressió polinòmica"
   ]
  },
  {
   "cell_type": "code",
   "execution_count": 37,
   "id": "180cb39c",
   "metadata": {},
   "outputs": [],
   "source": [
    "# step_1: importar paquets i classes \n",
    "\n",
    "from sklearn.preprocessing import PolynomialFeatures"
   ]
  },
  {
   "cell_type": "code",
   "execution_count": 45,
   "id": "9f8bb7a0",
   "metadata": {},
   "outputs": [],
   "source": [
    "# step_2: obtenir variables que volem estudiar\n",
    "\n",
    "# y: variable dependent (MEDV) \n",
    "# x: variable independent (RM)\n",
    "\n",
    "rp_x = pv[\n",
    "    [\"RM\"]\n",
    "]\n",
    "rp_y = pv[\"MEDV\"]\n",
    "rp_x,rp_y = np.array(rp_x), np.array(rp_y)\n",
    "\n",
    "# per implementar regressió polinòmica s'han de transformar les dades d'entrada\n",
    "# step_2b: transformar matriu d'entrada x -> que contingui columnes adicionals amb valors 𝑥²\n",
    "\n",
    "# creació nova columna x\n",
    "\n",
    "nova_x = PolynomialFeatures(degree=2, include_bias=False).fit_transform(rp_x)"
   ]
  },
  {
   "cell_type": "code",
   "execution_count": 46,
   "id": "8910e132",
   "metadata": {},
   "outputs": [
    {
     "data": {
      "text/plain": [
       "array([[ 6.575   , 43.230625],\n",
       "       [ 6.421   , 41.229241],\n",
       "       [ 7.185   , 51.624225],\n",
       "       ...,\n",
       "       [ 6.976   , 48.664576],\n",
       "       [ 6.794   , 46.158436],\n",
       "       [ 6.03    , 36.3609  ]])"
      ]
     },
     "execution_count": 46,
     "metadata": {},
     "output_type": "execute_result"
    }
   ],
   "source": [
    "nova_x"
   ]
  },
  {
   "cell_type": "code",
   "execution_count": 47,
   "id": "e929e59e",
   "metadata": {},
   "outputs": [],
   "source": [
    "# step_3: crear i ajustar model\n",
    "\n",
    "model_rp = LinearRegression().fit(nova_x, rp_y)\n",
    "\n",
    "# model de regressió polinòmica creat, ajustat i llest per aplicar\n",
    "# .fit() és la matriu d'entrada modificada, la nova_x (no la rp_x original)"
   ]
  },
  {
   "cell_type": "code",
   "execution_count": 48,
   "id": "6af0e16a",
   "metadata": {},
   "outputs": [
    {
     "name": "stdout",
     "output_type": "stream",
     "text": [
      "coeficient de determinació: 0.5484256373971057\n",
      "intercepte: 66.05884748479394\n",
      "coeficient: [-22.64326237   2.47012384]\n"
     ]
    }
   ],
   "source": [
    "# step_4: obtenir resultats\n",
    "\n",
    "rr_sq = model_rp.score(nova_x, rp_y)\n",
    "print(f\"coeficient de determinació: {rr_sq}\")\n",
    "\n",
    "print(f\"intercepte: {model_rp.intercept_}\")\n",
    "\n",
    "print(f\"coeficient: {model_rp.coef_}\")"
   ]
  },
  {
   "cell_type": "code",
   "execution_count": 49,
   "id": "9a42f1c0",
   "metadata": {},
   "outputs": [
    {
     "name": "stdout",
     "output_type": "stream",
     "text": [
      "predir resposta:\n",
      "[23.96439498 22.50779105 30.88523643 28.56821216 30.40041143 22.58969374\n",
      " 19.20806601 20.40050225 16.87772159 19.15176404 22.11313821 19.18691572\n",
      " 18.37736318 18.77324701 19.81832577 18.03009321 18.67928335 19.0539964\n",
      " 16.04769647 17.3973124  16.57122131 18.88181969 20.16728697 17.90144154\n",
      " 18.60613405 16.71464228 17.90144154 19.45810464 23.19309448 24.96265241\n",
      " 17.31870304 19.64040886 18.77999575 17.25209426 19.81832577 18.66593902\n",
      " 18.07346125 18.12957585 18.88864748 24.16216035 28.88002533 25.97690034\n",
      " 20.37698065 20.71032922 19.61836932 17.14808527 17.73923353 19.33590145\n",
      " 15.81001035 16.72971607 18.86817895 19.96119474 23.34482517 19.10974506\n",
      " 18.3709158  31.71790876 22.16639132 26.47902899 20.19040842 18.62602458\n",
      " 17.47689005 18.88864748 22.82854933 25.89064071 29.86039711 21.36095393\n",
      " 17.74517701 18.30671365 16.68961811 18.35160328 22.4715183  18.85455796\n",
      " 19.58905244 20.98656563 21.21834257 21.32726987 21.26851296 20.15189738\n",
      " 20.88027148 18.28117112 25.51697238 24.40208725 21.46248037 20.36132428\n",
      " 22.21982228 24.51300474 19.22926076 20.00668178 28.67576956 29.55063451\n",
      " 22.4715183  22.36317431 22.6995198  20.71032922 21.01943949 24.4625136\n",
      " 20.33007082 44.17706639 40.04253708 33.98595309 25.51697238 26.09602359\n",
      " 22.36317431 20.12885003 20.36132428 18.1358355  18.04245938 20.05234667\n",
      " 22.99586723 20.85586063 20.58231172 25.39025067 18.53358253 19.78847534\n",
      " 21.06064297 18.63266464 20.43193356 19.27178365 18.26842949 17.41995007\n",
      " 18.25570763 19.15176404 18.85455796 18.16720789 18.31311163 19.02624064\n",
      " 16.78536701 17.20808363 22.59881874 16.90886215 22.84706116 21.66766745\n",
      " 22.06889648 17.9563112  17.5690216  21.74534623 18.72614414 22.81005726\n",
      " 18.17349719 20.23678471 20.41620803 14.63562497 15.82616641 16.09978092\n",
      " 14.41924943 20.07524581 16.86221801 14.45686788 15.06387167 16.70461779\n",
      " 20.01428025 15.83021778 14.62068313 17.29642107 20.06760782 20.24453138\n",
      " 15.33815085 27.91961178 19.59637425 23.33530495 21.0276703  35.02065024\n",
      " 39.75552686 49.67755535 18.15464412 19.85574996 41.81473735 18.30032061\n",
      " 21.60752727 22.33619947 18.28754934 18.31951456 16.58097902 22.46246246\n",
      " 18.18609061 23.68114523 19.26468415 21.57327015 26.96910765 28.35429784\n",
      " 39.1705881  20.18269633 30.50188702 23.84668428 16.73978996 20.25228299\n",
      " 40.21872018 26.10688261 23.77834824 30.88523643 28.01302489 25.64440548\n",
      " 30.79539054 26.30318989 24.25179947 40.9294303  32.22188216 29.89777611\n",
      " 32.04866742 28.29516126 30.24879087 20.3222698  36.79367988 40.5728797\n",
      " 43.57740642 18.39027278 21.66766745 17.72143273 19.58173557 15.59588006\n",
      " 18.84775487 15.83021778 17.86508408 22.0954267  15.86280656 20.47922873\n",
      " 18.3709158  24.6346874  18.78674943 22.07773495 28.01302489 20.33787677\n",
      " 27.18368926 24.39203348 47.66518988 56.53610472 43.67977547 30.60367879\n",
      " 37.94430103 23.73940775 18.99165709 33.93001816 48.96933235 47.32041792\n",
      " 25.50638507 19.7438479  24.52311779 33.18263295 23.06136757 24.27177362\n",
      " 27.38862221 19.81085575 21.94567668 22.25554172 16.6846281  16.74483431\n",
      " 19.90835131 20.83149424 22.61708356 25.4218644  23.11770339 22.66283207\n",
      " 28.08329221 47.53796114 19.90835131 18.2939325  34.5212773  56.10752568\n",
      " 32.84149978 26.76746491 31.11738026 35.46800586 50.10968222 32.76008726\n",
      " 31.15622652 16.52272915 28.75970197 48.23154124 34.74881116 18.57968252\n",
      " 18.16720789 20.94558446 23.60373853 38.02100019 25.84762947 26.90171555\n",
      " 31.95574376 26.58957066 23.07074453 26.43495065 40.04253708 28.21257754\n",
      " 37.32002658 41.7156585  29.66179335 22.80081863 20.86399264 20.69425787\n",
      " 21.57327015 23.86625333 26.98035696 30.41307859 24.51300474 20.05234667\n",
      " 19.18691572 25.00400374 23.71025426 17.7630371  21.83212531 29.08570883\n",
      " 27.09312174 24.11253375 23.19309448 28.37798706 31.5471345  24.37194077\n",
      " 34.04196707 26.84569133 24.5636194  18.92971794 14.54186708 20.01428025\n",
      " 19.28599747 21.16003523 23.88584214 17.27421814 18.54015342 17.71550901\n",
      " 22.15750345 19.94607192 22.55324314 22.10427998 19.41481108 17.29086293\n",
      " 22.45341156 22.59881874 21.54762917 19.72160088 18.24300553 21.7280497\n",
      " 20.18269633 17.27976147 19.34305035 21.58182702 21.53055989 19.3860475\n",
      " 18.24935411 18.41615125 19.54522533 19.01931405 18.90231787 31.6127181\n",
      " 23.62306056 25.19106287 27.12704751 19.2221909  18.43561197 23.39250038\n",
      " 24.5636194  27.8730238  23.145938   24.00378997 18.34517566 25.52756463\n",
      " 17.04585971 18.68596293 20.71837231 22.27343108 20.05234667 19.93851792\n",
      " 22.30030218 21.03590606 15.66431396 17.84094458 57.66889878 16.74914147\n",
      " 14.5228682  15.44901246 14.53611554 25.05580405 28.78372712 20.75059405\n",
      " 18.28754934 14.42400798 14.65706705 32.57081635 24.70599747 26.23757628\n",
      " 22.13974253 20.80717231 28.21257754 23.67145211 16.40836359 16.33370076\n",
      " 14.28161759 15.35522122 14.17859792 14.59563171 14.38424437 15.77394822\n",
      " 17.31870304 19.48706583 14.67292013 20.56639845 18.36447335 22.96786976\n",
      " 22.36317431 17.51129117 16.03478652 18.1421001  19.03317217 21.81472997\n",
      " 22.35417775 15.61472892 16.38489559 17.15351497 14.65706705 16.75999702\n",
      " 16.80575192 26.87929104 17.5690216  24.78779112 14.17189024 14.97396273\n",
      " 14.17723555 22.62622338 26.10688261 15.4495354  18.82737526 26.56742281\n",
      " 22.41725738 19.16580989 16.96641509 19.87075422 16.54691348 18.42263321\n",
      " 18.04864987 20.63816376 20.56639845 22.13974253 21.85825537 26.66724378\n",
      " 22.54414284 22.64451784 20.6862296  24.50289663 22.87486596 20.24453138\n",
      " 18.67928335 16.85706002 17.93187528 22.3721758  20.77481224 23.09890503\n",
      " 18.15464412 22.85632449 21.7973544  21.03590606 20.50294301 22.4715183\n",
      " 25.75114316 24.76731307 21.42009123 33.66540666 25.52756463 23.47862698\n",
      " 18.95719705 18.68596293 21.45399266 19.70679423 25.2433078  22.10427998\n",
      " 21.59038883 23.36388043 20.69425787 17.58062696 18.79350805 19.14474853\n",
      " 18.61938946 17.31870304 20.36132428 20.85586063 22.65367249 28.35429784\n",
      " 15.9247627  20.3222698  23.08951325 15.4495354  20.50294301 20.85586063\n",
      " 20.96196211 25.7618441  29.32951731 17.59807207 18.26206609 21.54762917\n",
      " 19.95363086 18.48119324 16.03908489 15.87100315 14.80838759 19.00547569\n",
      " 19.00547569 17.28530973 18.61938946 17.08331427 15.77394822 17.78691971\n",
      " 19.25758959 16.56634986 19.31448439 24.14229489 19.99908826 28.3069787\n",
      " 26.23757628 19.33590145]\n"
     ]
    }
   ],
   "source": [
    "# step_5: predir resposta\n",
    "\n",
    "y_pred = model_rp.predict(nova_x)\n",
    "print(f\"predir resposta:\\n{y_pred}\")"
   ]
  },
  {
   "cell_type": "markdown",
   "id": "8f5cd6d0",
   "metadata": {},
   "source": [
    "# EXERCICI 2\n",
    "## comparació en base a MSE i R2 "
   ]
  },
  {
   "cell_type": "code",
   "execution_count": 55,
   "id": "dc59ef40",
   "metadata": {},
   "outputs": [],
   "source": [
    "# R2 - coeficient de determinació: mesura relativa de com s'ajusta el model a les variables dependents\n",
    "\n",
    "import statsmodels.api as sm"
   ]
  },
  {
   "cell_type": "code",
   "execution_count": 53,
   "id": "e2fb29d0",
   "metadata": {},
   "outputs": [
    {
     "name": "stdout",
     "output_type": "stream",
     "text": [
      "0.4955246476058477 0.4935187813935449\n"
     ]
    }
   ],
   "source": [
    "# R_Square i Adjusted R_Square_Ajustat\n",
    "\n",
    "# MODEL REGRESSIÓ LINEAL MÚLTIPLE\n",
    "\n",
    "X_x = sm.add_constant(x)\n",
    "result = sm.OLS(y, X_x).fit()\n",
    "print(result.rsquared, result.rsquared_adj)\n",
    "\n",
    "# resultat 0.4955246476058477 0.4935187813935449\n",
    "# a partir del modelo de mostra -> gairebé 50% de la variabilitat dependent es pot explicar pel model\n",
    "# R quadrada ajustada = (aprox) a R quadrada -> model bo per les variables\n"
   ]
  },
  {
   "cell_type": "code",
   "execution_count": 54,
   "id": "ec1b41d6",
   "metadata": {},
   "outputs": [
    {
     "name": "stdout",
     "output_type": "stream",
     "text": [
      "0.5484256373971057 0.5466301130925216\n"
     ]
    }
   ],
   "source": [
    "# R_Square i Adjusted R_Square_Ajustat\n",
    "\n",
    "# MODEL REGRESSIÓ POLINÒMICA\n",
    "\n",
    "X_nova_x = sm.add_constant(nova_x)\n",
    "result = sm.OLS(rp_y, X_nova_x).fit()\n",
    "print(result.rsquared, result.rsquared_adj)\n",
    "\n",
    "# resultat 0.5484256373971057 0.5466301130925216\n",
    "# a partir del modelo de mostra -> gairebé 55% de la variabilitat dependent es pot explicar pel model\n",
    "# R quadrada ajustada = (aprox) a R quadrada -> model bastant robust"
   ]
  },
  {
   "cell_type": "code",
   "execution_count": 57,
   "id": "f92d74a7",
   "metadata": {},
   "outputs": [],
   "source": [
    "# MSE - error quadràtic mig -> mesura absoluta de l'ajust   \n",
    " \n",
    "# paquets pel càlcul MSE\n",
    "\n",
    "from sklearn.metrics import mean_squared_error\n",
    "import math"
   ]
  },
  {
   "cell_type": "code",
   "execution_count": 70,
   "id": "02cfa84f",
   "metadata": {},
   "outputs": [
    {
     "data": {
      "text/plain": [
       "42.58758534083955"
      ]
     },
     "execution_count": 70,
     "metadata": {},
     "output_type": "execute_result"
    }
   ],
   "source": [
    "# MSE -> MODEL REGRESSIÓ LINEAL MÚLTIPLE\n",
    "\n",
    "y_true = y\n",
    "y_predi = pred\n",
    "mean_squared_error(y_true, y_predi)"
   ]
  },
  {
   "cell_type": "code",
   "execution_count": 71,
   "id": "af645dac",
   "metadata": {},
   "outputs": [
    {
     "data": {
      "text/plain": [
       "42.58758534083955"
      ]
     },
     "execution_count": 71,
     "metadata": {},
     "output_type": "execute_result"
    }
   ],
   "source": [
    "# MSE -> MODEL REGRESSIÓ POLINÒMICA\n",
    "\n",
    "yy_true = rp_y\n",
    "yy_pred = y_pred\n",
    "mean_squared_error(yy_true, yy_pred)"
   ]
  },
  {
   "cell_type": "code",
   "execution_count": 72,
   "id": "ded46275",
   "metadata": {},
   "outputs": [],
   "source": [
    "# R_Square i Adjusted R_Square_Ajustat -> Regressió Polinomiuca, valors mes elevatsi semblants, per tant model robust.\n",
    "# MSE -> tots dos models de regressió són igual de bons. "
   ]
  },
  {
   "cell_type": "markdown",
   "id": "7325409c",
   "metadata": {},
   "source": [
    "# EXERCICI 3\n",
    "## entrenar els models amb els diferents paràmetres i intentar millorar la predicció"
   ]
  },
  {
   "cell_type": "code",
   "execution_count": 75,
   "id": "fc6c485a",
   "metadata": {},
   "outputs": [
    {
     "name": "stdout",
     "output_type": "stream",
     "text": [
      "Training x Shape: (379, 2)\n",
      "Training y Shape: (379,)\n",
      "Testing x Shape: (127, 2)\n",
      "Testing y Shape: (127,)\n"
     ]
    }
   ],
   "source": [
    "# numpy per convertir en matrius, fet en el primer pas (exercici 1)\n",
    "# targets, labels -> valors que es volen predir\n",
    "# features -> característiques, columnes que el model utilitza per fer una predicció = x\n",
    "# label = y\n",
    "\n",
    "# skicit-learn to split data into training and testing sets\n",
    "\n",
    "from sklearn.model_selection import train_test_split\n",
    "\n",
    "# split the data into training and testing sets\n",
    "train_x, test_x, train_y, test_y = train_test_split(x, y, test_size = 0.25, random_state = 42)\n",
    "\n",
    "# valors per train/test\n",
    "\n",
    "print('Training x Shape:', train_x.shape)\n",
    "print('Training y Shape:', train_y.shape)\n",
    "print('Testing x Shape:', test_x.shape)\n",
    "print('Testing y Shape:', test_y.shape)\n"
   ]
  },
  {
   "cell_type": "code",
   "execution_count": null,
   "id": "bff559be",
   "metadata": {},
   "outputs": [],
   "source": [
    "# predicció line base -> son les mitges històriques\n",
    "lineabase_pred = test_x[:, x_list.index('MEDS')]\n",
    "\n",
    "# error linea base -> mostra l'error mig de la linea base\n",
    "lineabase_error = abs(lineabase_pred - test_y)\n",
    "\n",
    "print('mitja error linea base: ', round(np.mean(lineabase_error), 2))"
   ]
  },
  {
   "cell_type": "code",
   "execution_count": 105,
   "id": "d7970f56",
   "metadata": {},
   "outputs": [
    {
     "data": {
      "text/plain": [
       "RandomForestRegressor(n_estimators=10, random_state=42)"
      ]
     },
     "execution_count": 105,
     "metadata": {},
     "output_type": "execute_result"
    }
   ],
   "source": [
    "# entrenar el model\n",
    "# importacio del model utilitzat\n",
    "\n",
    "from sklearn.ensemble import RandomForestRegressor\n",
    "\n",
    "# 10 decisiontrees\n",
    "\n",
    "rf = RandomForestRegressor(n_estimators = 10, random_state = 42)\n",
    "\n",
    "# entrenamnet del model en l'entrenament de les dades\n",
    "\n",
    "rf.fit(train_x, train_y)"
   ]
  },
  {
   "cell_type": "code",
   "execution_count": 106,
   "id": "b2a204bf",
   "metadata": {},
   "outputs": [
    {
     "name": "stdout",
     "output_type": "stream",
     "text": [
      "Mean Absolute Error: 3.43 degrees.\n"
     ]
    }
   ],
   "source": [
    "# utilitzar mètode predicció arbre en el test data\n",
    "\n",
    "predictions = rf.predict(test_x)\n",
    "\n",
    "# calcul error absolute\n",
    "\n",
    "error = abs(predictions - test_y)\n",
    "\n",
    "# imprimir error mig absolut (mae)\n",
    "print('Mean Absolute Error:', round(np.mean(error), 2), 'degrees.')\n"
   ]
  },
  {
   "cell_type": "markdown",
   "id": "9500e68f",
   "metadata": {},
   "source": [
    "# EXERCICI 4\n",
    "## comparació del rendiment emprant l’aproximació traint/test o emprant totes les dades (validació interna)"
   ]
  },
  {
   "cell_type": "markdown",
   "id": "2480b89d",
   "metadata": {},
   "source": [
    "# EXERCICI 5\n",
    "## no utilitzar la variable \"nombre habitacions (RM)\" per fer prediccions.\n"
   ]
  },
  {
   "cell_type": "code",
   "execution_count": 107,
   "id": "e1ebec33",
   "metadata": {},
   "outputs": [
    {
     "data": {
      "text/plain": [
       "array([[ 4.98  , 24.8004],\n",
       "       [ 9.14  , 83.5396],\n",
       "       [ 4.03  , 16.2409],\n",
       "       ...,\n",
       "       [ 5.64  , 31.8096],\n",
       "       [ 6.48  , 41.9904],\n",
       "       [ 7.88  , 62.0944]])"
      ]
     },
     "execution_count": 107,
     "metadata": {},
     "output_type": "execute_result"
    }
   ],
   "source": [
    "# step_2: obtenir variables que volem estudiar\n",
    "\n",
    "# y: variable dependent (MEDV) \n",
    "# x: variable independent (RM)\n",
    "\n",
    "rpp_x = pv[\n",
    "    [\"LSTAT\"]\n",
    "]\n",
    "rp_y = pv[\"MEDV\"]\n",
    "rpp_x,rp_y = np.array(rpp_x), np.array(rp_y)\n",
    "\n",
    "# per implementar regressió polinòmica s'han de transformar les dades d'entrada\n",
    "# step_2b: transformar matriu d'entrada x -> que contingui columnes adicionals amb valors 𝑥²\n",
    "\n",
    "# creació nova columna x\n",
    "\n",
    "altre_x = PolynomialFeatures(degree=2, include_bias=False).fit_transform(rpp_x)\n",
    "\n",
    "altre_x"
   ]
  },
  {
   "cell_type": "code",
   "execution_count": 109,
   "id": "16349a52",
   "metadata": {},
   "outputs": [
    {
     "name": "stdout",
     "output_type": "stream",
     "text": [
      "coeficient de determinació: 0.6407168971636612\n",
      "intercepte: 42.862007328169355\n",
      "coeficient: [-2.3328211   0.04354689]\n"
     ]
    }
   ],
   "source": [
    "# creació i ajust model\n",
    "\n",
    "model_rpp = LinearRegression().fit(altre_x, rp_y)\n",
    "\n",
    "# resultats\n",
    "\n",
    "rrr_sq = model_rpp.score(altre_x, rp_y)\n",
    "\n",
    "print(f\"coeficient de determinació: {rrr_sq}\")\n",
    "\n",
    "print(f\"intercepte: {model_rpp.intercept_}\")\n",
    "\n",
    "print(f\"coeficient: {model_rpp.coef_}\")\n",
    "\n"
   ]
  },
  {
   "cell_type": "code",
   "execution_count": 110,
   "id": "6e097662",
   "metadata": {},
   "outputs": [
    {
     "name": "stdout",
     "output_type": "stream",
     "text": [
      "predir resposta:\n",
      "[32.32453853 25.17791221 34.16797898 36.37991519 31.6651901  31.89005053\n",
      " 20.59324886 14.15810743 12.05018872 15.70431246 13.36723387 19.57376939\n",
      " 16.96093871 26.5640048  23.51133939 26.22710566 29.39746804 18.01119997\n",
      " 21.54227676 22.08862187 13.06688286 18.92825716 14.4520986  13.69588164\n",
      " 16.40699646 16.21714645 17.86433174 15.55389024 20.13661962 21.16467755\n",
      " 12.38225972 19.84680295 11.65675676 14.71795763 13.42845365 24.36074714\n",
      " 21.91380538 25.75248384 23.69917639 33.59690965 38.41374278 32.59126522\n",
      " 30.7782899  27.91629545 24.55515102 23.5834102  18.57165584 14.39618326\n",
      " 12.32493965 16.49875118 19.36330471 24.73590715 31.75872953 26.29098081\n",
      " 17.87476572 32.64864303 30.85143182 34.32680433 28.90815379 25.05524819\n",
      " 19.71564686 18.25618934 29.13448624 24.63031366 26.90474478 32.91744255\n",
      " 23.54014159 26.82326784 19.7870559  25.72112109 29.1519574  24.06453835\n",
      " 31.311726   27.74824658 29.04726111 25.48701088 21.17757628 23.49695136\n",
      " 20.70612368 25.23945324 31.74000422 28.28906867 29.1519574  27.79856979\n",
      " 24.45028911 29.48556411 20.06369515 26.27499896 31.34878469 30.9797655\n",
      " 25.68979317 26.66096716 26.72578292 30.0545349  23.0411328  29.27449934\n",
      " 22.00775444 33.81265993 35.08883676 30.0903917  24.75102678 27.5310851\n",
      " 22.98478256 19.37492316 20.71870887 16.25301224 14.4944009  18.63783926\n",
      " 20.79440293 17.11638596 19.89475735 23.65569875 16.48953652 15.71275199\n",
      " 23.23945604 16.91281869 21.08746806 23.45383951 17.29392919 19.17859394\n",
      " 18.3316658  18.44022962 15.03419241 11.70186053 15.30945728 17.86433174\n",
      " 11.62932863 15.62874862 17.27406282 14.72530848 20.38196564 20.80704909\n",
      " 22.30580119 17.63698772 15.52909421 15.82325843 15.87475784 18.0958911\n",
      " 12.92016911 14.63767302 11.91961277 14.15124494 11.61956297 11.62531685\n",
      " 11.89273228 11.66435877 16.09271358 11.94759795 11.72209454 12.85902743\n",
      " 18.62678692 19.56200288 20.9850098  16.88405118 17.5451983  17.64723009\n",
      " 16.55422206 33.07180871 29.66240945 28.00064649 31.34878469 38.95655831\n",
      " 38.54352207 35.59703252 21.60812036 24.16781515 34.82672618 20.95948233\n",
      " 22.33310538 22.03467541 18.26694556 21.10031454 17.99011429 25.33202607\n",
      " 24.42040695 31.6651901  23.72820503 29.91145611 28.80418909 32.21074966\n",
      " 27.71474132 24.70569404 32.62950839 31.01651065 18.75998985 19.71564686\n",
      " 33.34329072 29.22192911 33.12983972 31.55323019 32.09727432 32.87893811\n",
      " 36.52550215 32.2296927  33.47967186 36.31765142 34.06899619 26.00464003\n",
      " 29.32714796 33.12983972 33.34329072 27.93314824 36.02812358 34.60608994\n",
      " 36.50467788 22.64960744 22.51143174 14.9346685  18.02175588 12.21410949\n",
      " 15.562173   11.96217807 16.656733   24.81159236 11.95239653 24.67551576\n",
      " 19.29377689 24.34585396 15.04190906 23.16843035 24.31609373 12.85438519\n",
      " 23.99103049 27.64783531 33.95050425 32.99455596 35.98690181 29.7867194\n",
      " 34.38650754 34.7062485  21.59493422 31.8149577  37.36561443 34.32680433\n",
      " 26.90474478 22.63575068 24.57016613 32.80203373 29.7867194  28.03444787\n",
      " 21.95401701 20.63079542 22.16980283 31.92764919 20.50594506 14.63767302\n",
      " 25.14719395 23.67018259 24.60022247 29.43268034 30.61423007 35.04841625\n",
      " 35.16978228 35.14953284 29.41506984 25.00939289 36.02812358 32.05951888\n",
      " 27.33193476 28.83880915 24.49517767 28.22097818 30.59604474 22.12917316\n",
      " 26.82326784 23.23945604 17.88520841 27.91629545 35.92513448 19.13276463\n",
      " 19.89475735 29.37987496 27.43135316 29.39746804 35.16978228 36.29691425\n",
      " 30.3423647  33.91107661 28.34022798 32.57215671 34.7062485  33.07180871\n",
      " 36.23475499 35.92513448 27.2328299  26.61244679 19.97901287 28.42566769\n",
      " 27.64783531 24.61526371 35.57660017 35.10906008 32.85969895 26.05216753\n",
      " 23.31069946 29.94717355 28.00064649 16.83627953 32.34353383 32.78282941\n",
      " 30.30626405 24.63031366 25.90982018 32.5530569  28.78689212 25.50255726\n",
      " 29.5915668  27.76501228 33.16857061 23.93238097 20.33261774 30.46899134\n",
      " 21.5028751  27.15048202 24.96361597 21.79364082 14.73266805 16.74138944\n",
      " 23.36785097 20.22209445 28.32316616 28.89080457 27.48117994 21.47665088\n",
      " 30.21616482 32.13506459 30.1622098  20.14880418 23.93238097 28.08521526\n",
      " 25.25486027 20.59324886 27.26583001 31.01651065 29.09957006 26.97008311\n",
      " 24.18260382 23.08348693 26.16336986 24.27151871 24.94837442 31.3673271\n",
      " 25.94139196 28.3572985  33.03316491 23.12591945 20.29569826 29.7867194\n",
      " 30.45087569 30.6324241  30.46899134 31.3673271  27.33193476 33.2461369\n",
      " 26.90474478 31.2192317  15.29344045 19.57376939 21.82028309 20.29569826\n",
      " 27.33193476 18.52770775 23.61229949 18.04289383 31.74000422 28.45990454\n",
      " 18.73770227 19.50330096 35.71980947 34.76644815 36.3383973  24.58518995\n",
      " 25.58041981 14.39595592 17.06725074 19.37492316 12.16681543 12.95852635\n",
      " 12.03669092 12.71043204 15.61205246 13.03691303 12.06130491 11.83512612\n",
      " 12.26325369 12.32493965 11.71681723 12.79920944 12.25990943 13.15350004\n",
      " 15.69588164 14.42407125 11.67269769 17.49450901 16.3614457  15.68745953\n",
      " 14.01392055 13.67189545 12.24992891 12.06121423 11.61952013 13.43969774\n",
      " 13.44533285 13.76256221 11.63491834 12.25003724 12.13637473 20.97224171\n",
      " 11.62597034 13.75645679 23.72820503 12.96820276 14.12475158 13.57734416\n",
      " 16.14554267 11.84288322 11.6626368  11.62042776 13.27469431 12.332083\n",
      " 17.64723009 16.97058884 18.62678692 12.15148622 15.65385818 11.86933026\n",
      " 16.98024769 18.17045308 12.82671464 11.93818231 15.2615113  13.81171907\n",
      " 21.10031454 16.48033056 17.49450901 12.15759178 14.94227192 11.62440194\n",
      " 13.89887885 12.28361332 12.57132116 13.91802816 16.14583293 14.36151922\n",
      " 12.01016944 11.96217807 15.14301808 16.28000303 14.88168835 14.05282619\n",
      " 15.42255054 15.19018021 15.562173   16.01362244 14.45912721 14.88168835\n",
      " 14.25205748 15.84039006 16.47113331 17.9795845  16.29804043 18.0323205\n",
      " 18.7488417  23.46820141 19.63273259 18.59368214 15.66224546 12.92016911\n",
      " 14.88168835 17.91658872 16.41613274 20.05157155 18.34248299 21.58175679\n",
      " 14.8741546  11.93348767 14.4802653  11.77263135 14.95750491 19.76321805\n",
      " 22.83053791 27.41476166 28.64882993 23.28217596 19.4915867  23.05524213\n",
      " 17.68828667 21.86031181 14.9346685  11.96462554 11.98443648 14.92707378\n",
      " 19.47988115 21.12603361 19.20156086 15.29344045 13.00725675 18.62678692\n",
      " 19.99108421 17.56553499 18.37498682 24.37564903 25.27027601 31.09010547\n",
      " 29.57387791 27.18339504]\n"
     ]
    }
   ],
   "source": [
    "# predir resposta\n",
    "\n",
    "y_pred = model_rpp.predict(altre_x)\n",
    "print(f\"predir resposta:\\n{y_pred}\")"
   ]
  },
  {
   "cell_type": "code",
   "execution_count": null,
   "id": "51ecc5c7",
   "metadata": {},
   "outputs": [],
   "source": []
  }
 ],
 "metadata": {
  "kernelspec": {
   "display_name": "Python 3 (ipykernel)",
   "language": "python",
   "name": "python3"
  },
  "language_info": {
   "codemirror_mode": {
    "name": "ipython",
    "version": 3
   },
   "file_extension": ".py",
   "mimetype": "text/x-python",
   "name": "python",
   "nbconvert_exporter": "python",
   "pygments_lexer": "ipython3",
   "version": "3.9.12"
  }
 },
 "nbformat": 4,
 "nbformat_minor": 5
}
